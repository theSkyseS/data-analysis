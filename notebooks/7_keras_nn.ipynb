{
 "nbformat": 4,
 "nbformat_minor": 0,
 "metadata": {
  "colab": {
   "name": "7_keras_nn.ipynb",
   "provenance": [],
   "collapsed_sections": []
  },
  "kernelspec": {
   "name": "python3",
   "display_name": "Python 3"
  },
  "language_info": {
   "name": "python"
  },
  "accelerator": "GPU"
 },
 "cells": [
  {
   "cell_type": "markdown",
   "metadata": {
    "id": "yBvfiXKA6kLa"
   },
   "source": [
    "https://colab.research.google.com/drive/1iDiiX1q9oogY8jZbs_G7H0VM4vRvYOE7?usp=sharing"
   ]
  },
  {
   "cell_type": "code",
   "metadata": {
    "id": "cmh7IY2V6LKu"
   },
   "source": [
    "import pandas as pd\n",
    "from sklearn import model_selection\n",
    "from keras.models import Sequential\n",
    "from keras.layers import Dense\n",
    "from keras.utils.vis_utils import plot_model"
   ],
   "execution_count": 3,
   "outputs": []
  },
  {
   "cell_type": "markdown",
   "metadata": {
    "id": "Mdno9oSk_8Qb"
   },
   "source": [
    "#### Загрузка данных"
   ]
  },
  {
   "cell_type": "code",
   "metadata": {
    "id": "4fZV3jO2_3N0"
   },
   "source": [
    "wine_df = pd.read_csv(\"/content/drive/MyDrive/Colab Notebooks/wine_preprocessed.csv\")\n",
    "X = wine_df.drop(columns='Cultivar')\n",
    "y = wine_df['Cultivar']"
   ],
   "execution_count": 4,
   "outputs": []
  },
  {
   "cell_type": "code",
   "metadata": {
    "id": "Ga843FgwE7Dq"
   },
   "source": [
    "y = pd.get_dummies(y)"
   ],
   "execution_count": 5,
   "outputs": []
  },
  {
   "cell_type": "code",
   "metadata": {
    "id": "ONV_agfc_5LO",
    "pycharm": {
     "name": "#%%\n"
    }
   },
   "source": [
    "X_train, X_test, y_train, y_test = model_selection.train_test_split(X, y)\n"
   ],
   "execution_count": 6,
   "outputs": []
  }
 ]
}