{
 "cells": [
  {
   "cell_type": "code",
   "execution_count": 1,
   "metadata": {
    "collapsed": true
   },
   "outputs": [],
   "source": [
    "import pandas as pd\n",
    "import numpy as np\n",
    "from sklearn import linear_model, tree, model_selection, preprocessing, pipeline"
   ]
  },
  {
   "cell_type": "markdown",
   "source": [
    "# Регрессия"
   ],
   "metadata": {
    "collapsed": false,
    "pycharm": {
     "name": "#%% md\n"
    }
   }
  },
  {
   "cell_type": "code",
   "execution_count": 2,
   "outputs": [],
   "source": [
    "def cross_validation_result(estimator):\n",
    "    # Проводим кросс-валидацию с разбиением на 3 отрезка\n",
    "    cv = model_selection.cross_validate(estimator, X, y, scoring=scores, cv=3)\n",
    "    # Выводим средние результаты\n",
    "    print('R2 score: ', cv['test_r2'].mean())\n",
    "    print('MSE score: ', cv['test_neg_mean_squared_error'].mean())\n",
    "    print('RMSE score: ', cv['test_neg_root_mean_squared_error'].mean())\n",
    "    print('MAE score: ', cv['test_neg_mean_absolute_error'].mean())\n",
    "\n",
    "\n",
    "def grid_search_result(estimator, param_grid):\n",
    "    # Подбираем гиперпараметры с помощью GridSearchCV\n",
    "    grid = model_selection.GridSearchCV(estimator, param_grid, cv=5)\n",
    "    grid.fit(X, y)\n",
    "    cross_validation_result(grid)\n"
   ],
   "metadata": {
    "collapsed": false,
    "pycharm": {
     "name": "#%%\n"
    }
   }
  },
  {
   "cell_type": "markdown",
   "source": [
    "### Подготовка данных"
   ],
   "metadata": {
    "collapsed": false,
    "pycharm": {
     "name": "#%% md\n"
    }
   }
  },
  {
   "cell_type": "code",
   "execution_count": 3,
   "outputs": [],
   "source": [
    "# Считываем данные из файла и перемешиваем, так как автомобили отсортированы по году выпуска\n",
    "mpg = pd.read_csv(\"../data/auto_mpg_preprocessed.csv\")\n",
    "mpg = mpg.drop(columns=\"Unnamed: 0\").sample(frac=1)"
   ],
   "metadata": {
    "collapsed": false,
    "pycharm": {
     "name": "#%%\n"
    }
   }
  },
  {
   "cell_type": "code",
   "execution_count": 4,
   "outputs": [],
   "source": [
    "# Отделяем ключевой атрибут и наименования автомобилей \n",
    "X = mpg.drop(columns=['mpg','car name']).values\n",
    "y = mpg['mpg'].values"
   ],
   "metadata": {
    "collapsed": false,
    "pycharm": {
     "name": "#%%\n"
    }
   }
  },
  {
   "cell_type": "code",
   "execution_count": 5,
   "outputs": [],
   "source": [
    "# Объявляем критерии оценки\n",
    "scores = ['r2', 'neg_mean_squared_error', 'neg_root_mean_squared_error', 'neg_mean_absolute_error']\n",
    "# Объявляем скейлер\n",
    "scaler = preprocessing.StandardScaler()"
   ],
   "metadata": {
    "collapsed": false,
    "pycharm": {
     "name": "#%%\n"
    }
   }
  },
  {
   "cell_type": "markdown",
   "source": [
    "### Линейная регрессия"
   ],
   "metadata": {
    "collapsed": false
   }
  },
  {
   "cell_type": "code",
   "execution_count": 6,
   "outputs": [
    {
     "name": "stdout",
     "output_type": "stream",
     "text": [
      "R2 score:  0.8075550024019429\n",
      "MSE score:  -11.706689430886927\n",
      "RMSE score:  -3.413425372783937\n",
      "MAE score:  -2.579890747190856\n",
      "Wall time: 73 ms\n"
     ]
    }
   ],
   "source": [
    "%%time\n",
    "# https://scikit-learn.org/stable/modules/generated/sklearn.linear_model.LinearRegression.html\n",
    "LR = linear_model.LinearRegression()\n",
    "lr_pipe = pipeline.Pipeline(steps=[('scaler', scaler), ('LR', LR)])\n",
    "\n",
    "cross_validation_result(lr_pipe)"
   ],
   "metadata": {
    "collapsed": false,
    "pycharm": {
     "name": "#%%\n"
    }
   }
  },
  {
   "cell_type": "markdown",
   "source": [
    "У линейной регрессии нет гиперпараметров, поэтому подбор не проводится"
   ],
   "metadata": {
    "collapsed": false
   }
  },
  {
   "cell_type": "markdown",
   "source": [
    "### Регрессия дерева решений"
   ],
   "metadata": {
    "collapsed": false
   }
  },
  {
   "cell_type": "code",
   "execution_count": 7,
   "outputs": [
    {
     "name": "stdout",
     "output_type": "stream",
     "text": [
      "R2 score:  0.7657971991768332\n",
      "MSE score:  -14.201442748091603\n",
      "RMSE score:  -3.765976083833509\n",
      "MAE score:  -2.58153650420826\n"
     ]
    }
   ],
   "source": [
    "# https://scikit-learn.org/stable/modules/generated/sklearn.tree.DecisionTreeRegressor.html\n",
    "tree_regressor = tree.DecisionTreeRegressor()\n",
    "tree_pipe = pipeline.Pipeline(steps=[('scaler', scaler), ('tree', tree_regressor)])\n",
    "# Проводим кросс-валидацию\n",
    "cross_validation_result(tree_pipe)"
   ],
   "metadata": {
    "collapsed": false,
    "pycharm": {
     "name": "#%%\n"
    }
   }
  },
  {
   "cell_type": "markdown",
   "source": [
    "#### Подбор гиперпараметров для дерева решений\n",
    "Гиперпараметры дерева решений:\n",
    "- criterion - функция определения качества разделения вершин\n",
    "- splitter - стратегия разделения вершин\n",
    "- max_depth - максимальная глубина дерева\n",
    "- min_samples_leaf - минимальное кол-во объектов в листе"
   ],
   "metadata": {
    "collapsed": false
   }
  },
  {
   "cell_type": "code",
   "execution_count": 8,
   "outputs": [
    {
     "name": "stdout",
     "output_type": "stream",
     "text": [
      "R2 score:  0.8101816946906668\n",
      "MSE score:  -11.555856710338531\n",
      "RMSE score:  -3.389340548703587\n",
      "MAE score:  -2.481186895660178\n",
      "Wall time: 13.3 s\n"
     ]
    }
   ],
   "source": [
    "%%time\n",
    "# Подбираем гиперпараметры с помощью GridSearchCV\n",
    "tree_param_grid = dict(tree__criterion=['mse', 'friedman_mse', 'mae', 'poisson'], tree__splitter=['best', 'random'], tree__min_samples_leaf=[1, 3, 5, 10, 15], tree__max_depth=[5, 10, 20, 50, 100, None])\n",
    "grid_search_result(tree_pipe, tree_param_grid)"
   ],
   "metadata": {
    "collapsed": false,
    "pycharm": {
     "name": "#%%\n"
    }
   }
  },
  {
   "cell_type": "markdown",
   "source": [
    "### Lasso регрессия"
   ],
   "metadata": {
    "collapsed": false
   }
  },
  {
   "cell_type": "code",
   "execution_count": 9,
   "outputs": [
    {
     "name": "stdout",
     "output_type": "stream",
     "text": [
      "R2 score:  0.7819229757307783\n",
      "MSE score:  -13.314137607126193\n",
      "RMSE score:  -3.6308815977161273\n",
      "MAE score:  -2.691703402504104\n"
     ]
    }
   ],
   "source": [
    "# https://scikit-learn.org/stable/modules/generated/sklearn.linear_model.Lasso.html\n",
    "lasso = linear_model.Lasso()\n",
    "lasso_pipe = pipeline.Pipeline(steps=[('scaler', scaler), ('lasso', lasso)])\n",
    "# Проводим кросс-валидацию\n",
    "cross_validation_result(lasso_pipe)"
   ],
   "metadata": {
    "collapsed": false,
    "pycharm": {
     "name": "#%%\n"
    }
   }
  },
  {
   "cell_type": "markdown",
   "source": [
    "#### Подбор гиперпараметров для Lasso регрессии\n",
    "Гиперпараметры lasso:\n",
    "alpha - штрафующий коэффициент"
   ],
   "metadata": {
    "collapsed": false
   }
  },
  {
   "cell_type": "code",
   "execution_count": 10,
   "outputs": [
    {
     "name": "stdout",
     "output_type": "stream",
     "text": [
      "R2 score:  0.8083610958897847\n",
      "MSE score:  -11.654838118668346\n",
      "RMSE score:  -3.4062523436482057\n",
      "MAE score:  -2.5575843983237427\n",
      "Wall time: 810 ms\n"
     ]
    }
   ],
   "source": [
    "%%time\n",
    "# Подбираем гиперпараметры с помощью GridSearchCV\n",
    "lasso_param_grid = dict(lasso__alpha=np.arange(0.05, 1, 0.05))\n",
    "grid_search_result(lasso_pipe, lasso_param_grid)"
   ],
   "metadata": {
    "collapsed": false,
    "pycharm": {
     "name": "#%%\n"
    }
   }
  },
  {
   "cell_type": "markdown",
   "source": [
    "### Гребневая регрессия"
   ],
   "metadata": {
    "collapsed": false,
    "pycharm": {
     "name": "#%% md\n"
    }
   }
  },
  {
   "cell_type": "code",
   "execution_count": 11,
   "outputs": [
    {
     "name": "stdout",
     "output_type": "stream",
     "text": [
      "R2 score:  0.8074526319461599\n",
      "MSE score:  -11.710897830177094\n",
      "RMSE score:  -3.414083752618535\n",
      "MAE score:  -2.574096949792262\n"
     ]
    }
   ],
   "source": [
    "# https://scikit-learn.org/stable/modules/generated/sklearn.linear_model.Ridge.html\n",
    "ridge = linear_model.Ridge()\n",
    "ridge_pipe = pipeline.Pipeline(steps=[('scaler', scaler), ('ridge', ridge)])\n",
    "# Проводим кросс-валидацию\n",
    "cross_validation_result(ridge_pipe)"
   ],
   "metadata": {
    "collapsed": false,
    "pycharm": {
     "name": "#%%\n"
    }
   }
  },
  {
   "cell_type": "markdown",
   "source": [
    "#### Подбор гиперпараметров для Ridge регрессии\n",
    "Гиперпараметры ridge:\n",
    "alpha - штрафующий коэффициент"
   ],
   "metadata": {
    "collapsed": false
   }
  },
  {
   "cell_type": "code",
   "execution_count": 12,
   "outputs": [
    {
     "name": "stdout",
     "output_type": "stream",
     "text": [
      "R2 score:  0.8068423171862809\n",
      "MSE score:  -11.75000195032248\n",
      "RMSE score:  -3.419581214035569\n",
      "MAE score:  -2.580346566834231\n",
      "Wall time: 775 ms\n"
     ]
    }
   ],
   "source": [
    "%%time\n",
    "# Подбираем гиперпараметры с помощью GridSearchCV\n",
    "ridge_param_grid = dict(ridge__alpha=np.arange(0.05, 1, 0.05))\n",
    "grid_search_result(ridge_pipe, ridge_param_grid)\n"
   ],
   "metadata": {
    "collapsed": false,
    "pycharm": {
     "name": "#%%\n"
    }
   }
  },
  {
   "cell_type": "markdown",
   "source": [
    "### Elastic Net регрессия"
   ],
   "metadata": {
    "collapsed": false
   }
  },
  {
   "cell_type": "code",
   "execution_count": 13,
   "outputs": [
    {
     "name": "stdout",
     "output_type": "stream",
     "text": [
      "R2 score:  0.7558261380534725\n",
      "MSE score:  -14.888049729952314\n",
      "RMSE score:  -3.843104591213738\n",
      "MAE score:  -2.859218025849581\n"
     ]
    }
   ],
   "source": [
    "# https://scikit-learn.org/stable/modules/generated/sklearn.linear_model.ElasticNet.html\n",
    "elastic = linear_model.ElasticNet()\n",
    "elastic_pipe = pipeline.Pipeline(steps=[('scaler', scaler), ('elastic', elastic)])\n",
    "# Проводим кросс-валидацию\n",
    "cross_validation_result(elastic_pipe)"
   ],
   "metadata": {
    "collapsed": false,
    "pycharm": {
     "name": "#%%\n"
    }
   }
  },
  {
   "cell_type": "markdown",
   "source": [
    "#### Подбор гиперпараметров для Elastic Net регрессии\n",
    "Гиперпараметры Elastic Net:\n",
    "alpha - штрафующий коэффициент\n",
    "l1_ratio - коэффициент смешивания, т.е. l1_ratio = 0 будет означать использование только l2 регуляризации, а l1_ratio - только l1"
   ],
   "metadata": {
    "collapsed": false
   }
  },
  {
   "cell_type": "code",
   "execution_count": 14,
   "outputs": [
    {
     "name": "stdout",
     "output_type": "stream",
     "text": [
      "R2 score:  0.806100960573309\n",
      "MSE score:  -11.791620333723763\n",
      "RMSE score:  -3.425500150162344\n",
      "MAE score:  -2.5650942646962016\n",
      "Wall time: 13 s\n"
     ]
    }
   ],
   "source": [
    "%%time\n",
    "# Подбираем гиперпараметры с помощью GridSearchCV\n",
    "elastic_param_grid = dict(elastic__alpha=np.arange(0.05, 1, 0.05), elastic__l1_ratio=np.arange(0.1, 0.9, 0.05))\n",
    "grid_search_result(elastic_pipe, elastic_param_grid)"
   ],
   "metadata": {
    "collapsed": false,
    "pycharm": {
     "name": "#%%\n"
    }
   }
  },
  {
   "cell_type": "markdown",
   "source": [
    "### Выводы\n",
    "В целом, все модели после подбора параметров выдали практически одинаковые результаты. <br>\n",
    "Скорее всего, это связано с тем, что зависимость ключевого атрибута от большинства параметров является близкой к линейной. <br>\n",
    "Также, стоит заметить, что для получения таких результатов данные пришлось перемешать, так как они были отсортированы по году выпуска"
   ],
   "metadata": {
    "collapsed": false,
    "pycharm": {
     "name": "#%% md\n"
    }
   }
  }
 ],
 "metadata": {
  "kernelspec": {
   "display_name": "Python 3",
   "language": "python",
   "name": "python3"
  },
  "language_info": {
   "codemirror_mode": {
    "name": "ipython",
    "version": 2
   },
   "file_extension": ".py",
   "mimetype": "text/x-python",
   "name": "python",
   "nbconvert_exporter": "python",
   "pygments_lexer": "ipython2",
   "version": "2.7.6"
  }
 },
 "nbformat": 4,
 "nbformat_minor": 0
}