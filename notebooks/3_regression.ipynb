{
 "cells": [
  {
   "cell_type": "code",
   "execution_count": 45,
   "metadata": {
    "collapsed": true
   },
   "outputs": [],
   "source": [
    "import pandas as pd\n",
    "import numpy as np\n",
    "from sklearn import linear_model, tree, model_selection, preprocessing, pipeline"
   ]
  },
  {
   "cell_type": "markdown",
   "source": [
    "# Регрессия"
   ],
   "metadata": {
    "collapsed": false,
    "pycharm": {
     "name": "#%% md\n"
    }
   }
  },
  {
   "cell_type": "markdown",
   "source": [
    "### Подготовка данных"
   ],
   "metadata": {
    "collapsed": false,
    "pycharm": {
     "name": "#%% md\n"
    }
   }
  },
  {
   "cell_type": "code",
   "execution_count": 46,
   "outputs": [],
   "source": [
    "# Считываем данные из файла и перемешиваем, так как автомобили отсортированы по году выпуска\n",
    "mpg = pd.read_csv(\"../data/auto_mpg_preprocessed.csv\")\n",
    "mpg = mpg.drop(columns=\"Unnamed: 0\").sample(frac=1)"
   ],
   "metadata": {
    "collapsed": false,
    "pycharm": {
     "name": "#%%\n"
    }
   }
  },
  {
   "cell_type": "code",
   "execution_count": 47,
   "outputs": [],
   "source": [
    "# Отделяем ключевой атрибут и наименования автомобилей \n",
    "X = mpg.drop(columns=['mpg','car name']).values\n",
    "y = mpg['mpg'].values"
   ],
   "metadata": {
    "collapsed": false,
    "pycharm": {
     "name": "#%%\n"
    }
   }
  },
  {
   "cell_type": "code",
   "execution_count": 48,
   "outputs": [],
   "source": [
    "# Объявляем критерии оценки\n",
    "scores = ['r2', 'neg_mean_squared_error', 'neg_root_mean_squared_error', 'neg_mean_absolute_error']\n",
    "# Объявляем скейлер\n",
    "scaler = preprocessing.StandardScaler()"
   ],
   "metadata": {
    "collapsed": false,
    "pycharm": {
     "name": "#%%\n"
    }
   }
  },
  {
   "cell_type": "markdown",
   "source": [
    "### Линейная регрессия"
   ],
   "metadata": {
    "collapsed": false
   }
  },
  {
   "cell_type": "code",
   "execution_count": 63,
   "outputs": [
    {
     "name": "stdout",
     "output_type": "stream",
     "text": [
      "R2 score:  0.8094554723789109\n",
      "MSE score:  -11.61747979203624\n",
      "RMSE score:  -3.3931547886480495\n",
      "MAE score:  -2.570631049260393\n",
      "Wall time: 11 ms\n"
     ]
    }
   ],
   "source": [
    "%%time\n",
    "# https://scikit-learn.org/stable/modules/generated/sklearn.linear_model.LinearRegression.html\n",
    "LR = linear_model.LinearRegression()\n",
    "lr_pipe = pipeline.Pipeline(steps=[('scaler', scaler), ('LR', LR)])\n",
    "# Проводим кросс-валидацию с разбиением на 3 отрезка\n",
    "lr_cv = model_selection.cross_validate(lr_pipe, X, y, scoring=scores, cv=3)\n",
    "# Выводим средние результаты\n",
    "print('R2 score: ', lr_cv['test_r2'].mean())\n",
    "print('MSE score: ', lr_cv['test_neg_mean_squared_error'].mean())\n",
    "print('RMSE score: ', lr_cv['test_neg_root_mean_squared_error'].mean())\n",
    "print('MAE score: ', lr_cv['test_neg_mean_absolute_error'].mean())"
   ],
   "metadata": {
    "collapsed": false,
    "pycharm": {
     "name": "#%%\n"
    }
   }
  },
  {
   "cell_type": "markdown",
   "source": [
    "У линейной регрессии нет гиперпараметров, поэтому подбор не проводится"
   ],
   "metadata": {
    "collapsed": false
   }
  },
  {
   "cell_type": "markdown",
   "source": [
    "### Регрессия дерева решений"
   ],
   "metadata": {
    "collapsed": false
   }
  },
  {
   "cell_type": "code",
   "execution_count": 50,
   "outputs": [
    {
     "name": "stdout",
     "output_type": "stream",
     "text": [
      "R2 score:  0.7422165967422627\n",
      "MSE score:  -15.141692699158346\n",
      "RMSE score:  -3.8767423903834817\n",
      "MAE score:  -2.61819534155412\n"
     ]
    }
   ],
   "source": [
    "# https://scikit-learn.org/stable/modules/generated/sklearn.tree.DecisionTreeRegressor.html\n",
    "tree_regressor = tree.DecisionTreeRegressor()\n",
    "tree_pipe = pipeline.Pipeline(steps=[('scaler', scaler), ('tree', tree_regressor)])\n",
    "# Проводим кросс-валидацию\n",
    "tree_cv = model_selection.cross_validate(tree_pipe, X, y, scoring=scores, cv=3)\n",
    "\n",
    "# Выводим результаты\n",
    "print('R2 score: ', tree_cv['test_r2'].mean())\n",
    "print('MSE score: ', tree_cv['test_neg_mean_squared_error'].mean())\n",
    "print('RMSE score: ', tree_cv['test_neg_root_mean_squared_error'].mean())\n",
    "print('MAE score: ', tree_cv['test_neg_mean_absolute_error'].mean())"
   ],
   "metadata": {
    "collapsed": false,
    "pycharm": {
     "name": "#%%\n"
    }
   }
  },
  {
   "cell_type": "markdown",
   "source": [
    "#### Подбор гиперпараметров для дерева решений\n",
    "Гиперпараметры дерева решений:\n",
    "- criterion - функция определения качества разделения вершин\n",
    "- splitter - стратегия разделения вершин\n",
    "- max_depth - максимальная глубина дерева\n",
    "- min_samples_leaf - минимальное кол-во объектов в листе"
   ],
   "metadata": {
    "collapsed": false
   }
  },
  {
   "cell_type": "code",
   "execution_count": 51,
   "outputs": [
    {
     "data": {
      "text/plain": "GridSearchCV(cv=5,\n             estimator=Pipeline(steps=[('scaler', StandardScaler()),\n                                       ('tree', DecisionTreeRegressor())]),\n             param_grid={'tree__criterion': ['mse', 'friedman_mse', 'mae',\n                                             'poisson'],\n                         'tree__max_depth': [5, 10, 20, 50, 100, None],\n                         'tree__min_samples_leaf': [1, 3, 5, 10, 15],\n                         'tree__splitter': ['best', 'random']})"
     },
     "execution_count": 51,
     "metadata": {},
     "output_type": "execute_result"
    }
   ],
   "source": [
    "# Подбираем гиперпараметры с помощью GridSearchCV\n",
    "tree_param_grid = dict(tree__criterion=['mse', 'friedman_mse', 'mae', 'poisson'], tree__splitter=['best', 'random'], tree__min_samples_leaf=[1, 3, 5, 10, 15], tree__max_depth=[5, 10, 20, 50, 100, None])\n",
    "\n",
    "grid_tree = model_selection.GridSearchCV(tree_pipe, tree_param_grid, cv=5)\n",
    "grid_tree.fit(X, y)"
   ],
   "metadata": {
    "collapsed": false,
    "pycharm": {
     "name": "#%%\n"
    }
   }
  },
  {
   "cell_type": "code",
   "execution_count": 52,
   "outputs": [
    {
     "name": "stdout",
     "output_type": "stream",
     "text": [
      "R2 score:  0.8023507820845799\n",
      "MSE score:  -12.057305064938092\n",
      "RMSE score:  -3.4560996936380985\n",
      "MAE score:  -2.4883875979830177\n",
      "Wall time: 11 ms\n"
     ]
    }
   ],
   "source": [
    "%%time\n",
    "tree_grid_cv = model_selection.cross_validate(grid_tree.best_estimator_, X, y, scoring=scores, cv=3)\n",
    "\n",
    "# Выводим результаты\n",
    "print('R2 score: ', tree_grid_cv['test_r2'].mean())\n",
    "print('MSE score: ', tree_grid_cv['test_neg_mean_squared_error'].mean())\n",
    "print('RMSE score: ', tree_grid_cv['test_neg_root_mean_squared_error'].mean())\n",
    "print('MAE score: ', tree_grid_cv['test_neg_mean_absolute_error'].mean())"
   ],
   "metadata": {
    "collapsed": false,
    "pycharm": {
     "name": "#%%\n"
    }
   }
  },
  {
   "cell_type": "markdown",
   "source": [
    "### Lasso регрессия"
   ],
   "metadata": {
    "collapsed": false
   }
  },
  {
   "cell_type": "code",
   "execution_count": 53,
   "outputs": [
    {
     "name": "stdout",
     "output_type": "stream",
     "text": [
      "R2 score:  0.7819015658874232\n",
      "MSE score:  -13.408621675972988\n",
      "RMSE score:  -3.630662168024465\n",
      "MAE score:  -2.6899074265196354\n"
     ]
    }
   ],
   "source": [
    "# https://scikit-learn.org/stable/modules/generated/sklearn.linear_model.Lasso.html\n",
    "lasso = linear_model.Lasso()\n",
    "lasso_pipe = pipeline.Pipeline(steps=[('scaler', scaler), ('lasso', lasso)])\n",
    "# Проводим кросс-валидацию\n",
    "lasso_cv = model_selection.cross_validate(lasso_pipe, X, y, scoring=scores, cv=3)\n",
    "\n",
    "# Выводим результаты\n",
    "print('R2 score: ', lasso_cv['test_r2'].mean())\n",
    "print('MSE score: ', lasso_cv['test_neg_mean_squared_error'].mean())\n",
    "print('RMSE score: ', lasso_cv['test_neg_root_mean_squared_error'].mean())\n",
    "print('MAE score: ', lasso_cv['test_neg_mean_absolute_error'].mean())"
   ],
   "metadata": {
    "collapsed": false,
    "pycharm": {
     "name": "#%%\n"
    }
   }
  },
  {
   "cell_type": "markdown",
   "source": [
    "#### Подбор гиперпараметров для Lasso регрессии\n",
    "Гиперпараметры lasso:\n",
    "alpha - штрафующий коэффициент"
   ],
   "metadata": {
    "collapsed": false
   }
  },
  {
   "cell_type": "code",
   "execution_count": 54,
   "outputs": [
    {
     "data": {
      "text/plain": "GridSearchCV(cv=5,\n             estimator=Pipeline(steps=[('scaler', StandardScaler()),\n                                       ('lasso', Lasso())]),\n             param_grid={'lasso__alpha': array([0.05, 0.1 , 0.15, 0.2 , 0.25, 0.3 , 0.35, 0.4 , 0.45, 0.5 , 0.55,\n       0.6 , 0.65, 0.7 , 0.75, 0.8 , 0.85, 0.9 , 0.95])})"
     },
     "execution_count": 54,
     "metadata": {},
     "output_type": "execute_result"
    }
   ],
   "source": [
    "# Подбираем гиперпараметры с помощью GridSearchCV\n",
    "lasso_param_grid = dict(lasso__alpha=np.arange(0.05, 1, 0.05))\n",
    "\n",
    "grid_lasso = model_selection.GridSearchCV(lasso_pipe, lasso_param_grid, cv=5)\n",
    "grid_lasso.fit(X, y)"
   ],
   "metadata": {
    "collapsed": false,
    "pycharm": {
     "name": "#%%\n"
    }
   }
  },
  {
   "cell_type": "code",
   "execution_count": 55,
   "outputs": [
    {
     "name": "stdout",
     "output_type": "stream",
     "text": [
      "R2 score:  0.8090798288094131\n",
      "MSE score:  -11.664365191858975\n",
      "RMSE score:  -3.3970543697650712\n",
      "MAE score:  -2.5547807829731934\n",
      "Wall time: 12 ms\n"
     ]
    }
   ],
   "source": [
    "%%time\n",
    "lasso_grid_cv = model_selection.cross_validate(grid_lasso.best_estimator_, X, y, scoring=scores, cv=3)\n",
    "\n",
    "# Выводим результаты\n",
    "print('R2 score: ', lasso_grid_cv['test_r2'].mean())\n",
    "print('MSE score: ', lasso_grid_cv['test_neg_mean_squared_error'].mean())\n",
    "print('RMSE score: ', lasso_grid_cv['test_neg_root_mean_squared_error'].mean())\n",
    "print('MAE score: ', lasso_grid_cv['test_neg_mean_absolute_error'].mean())"
   ],
   "metadata": {
    "collapsed": false,
    "pycharm": {
     "name": "#%%\n"
    }
   }
  },
  {
   "cell_type": "markdown",
   "source": [
    "### Гребневая регрессия"
   ],
   "metadata": {
    "collapsed": false,
    "pycharm": {
     "name": "#%% md\n"
    }
   }
  },
  {
   "cell_type": "code",
   "execution_count": 56,
   "outputs": [
    {
     "name": "stdout",
     "output_type": "stream",
     "text": [
      "R2 score:  0.8096588253919706\n",
      "MSE score:  -11.60701653118852\n",
      "RMSE score:  -3.39129140327991\n",
      "MAE score:  -2.566253229917146\n"
     ]
    }
   ],
   "source": [
    "# https://scikit-learn.org/stable/modules/generated/sklearn.linear_model.Ridge.html\n",
    "ridge = linear_model.Ridge()\n",
    "ridge_pipe = pipeline.Pipeline(steps=[('scaler', scaler), ('ridge', ridge)])\n",
    "# Проводим кросс-валидацию\n",
    "ridge_cv = model_selection.cross_validate(ridge_pipe, X, y, scoring=scores, cv=3)\n",
    "\n",
    "# Выводим результаты\n",
    "print('R2 score: ', ridge_cv['test_r2'].mean())\n",
    "print('MSE score: ', ridge_cv['test_neg_mean_squared_error'].mean())\n",
    "print('RMSE score: ', ridge_cv['test_neg_root_mean_squared_error'].mean())\n",
    "print('MAE score: ', ridge_cv['test_neg_mean_absolute_error'].mean())"
   ],
   "metadata": {
    "collapsed": false,
    "pycharm": {
     "name": "#%%\n"
    }
   }
  },
  {
   "cell_type": "markdown",
   "source": [
    "#### Подбор гиперпараметров для Ridge регрессии\n",
    "Гиперпараметры ridge:\n",
    "alpha - штрафующий коэффициент"
   ],
   "metadata": {
    "collapsed": false
   }
  },
  {
   "cell_type": "code",
   "execution_count": 57,
   "outputs": [
    {
     "data": {
      "text/plain": "GridSearchCV(cv=5,\n             estimator=Pipeline(steps=[('scaler', StandardScaler()),\n                                       ('ridge', Ridge())]),\n             param_grid={'ridge__alpha': array([0.05, 0.1 , 0.15, 0.2 , 0.25, 0.3 , 0.35, 0.4 , 0.45, 0.5 , 0.55,\n       0.6 , 0.65, 0.7 , 0.75, 0.8 , 0.85, 0.9 , 0.95])})"
     },
     "execution_count": 57,
     "metadata": {},
     "output_type": "execute_result"
    }
   ],
   "source": [
    "# Подбираем гиперпараметры с помощью GridSearchCV\n",
    "ridge_param_grid = dict(ridge__alpha=np.arange(0.05, 1, 0.05))\n",
    "\n",
    "grid_ridge = model_selection.GridSearchCV(ridge_pipe, ridge_param_grid, cv=5)\n",
    "grid_ridge.fit(X, y)"
   ],
   "metadata": {
    "collapsed": false,
    "pycharm": {
     "name": "#%%\n"
    }
   }
  },
  {
   "cell_type": "code",
   "execution_count": 58,
   "outputs": [
    {
     "name": "stdout",
     "output_type": "stream",
     "text": [
      "R2 score:  0.809656247707327\n",
      "MSE score:  -11.607071120402955\n",
      "RMSE score:  -3.3913169214226038\n",
      "MAE score:  -2.5663579485007784\n",
      "Wall time: 9.02 ms\n"
     ]
    }
   ],
   "source": [
    "%%time\n",
    "ridge_grid_cv = model_selection.cross_validate(grid_ridge.best_estimator_, X, y, scoring=scores, cv=3)\n",
    "\n",
    "# Выводим результаты\n",
    "print('R2 score: ', ridge_grid_cv['test_r2'].mean())\n",
    "print('MSE score: ', ridge_grid_cv['test_neg_mean_squared_error'].mean())\n",
    "print('RMSE score: ', ridge_grid_cv['test_neg_root_mean_squared_error'].mean())\n",
    "print('MAE score: ', ridge_grid_cv['test_neg_mean_absolute_error'].mean())"
   ],
   "metadata": {
    "collapsed": false,
    "pycharm": {
     "name": "#%%\n"
    }
   }
  },
  {
   "cell_type": "markdown",
   "source": [
    "### Elastic Net регрессия"
   ],
   "metadata": {
    "collapsed": false
   }
  },
  {
   "cell_type": "code",
   "execution_count": 59,
   "outputs": [
    {
     "name": "stdout",
     "output_type": "stream",
     "text": [
      "R2 score:  0.7569951188406066\n",
      "MSE score:  -14.894662777770245\n",
      "RMSE score:  -3.830226611790979\n",
      "MAE score:  -2.8642537360595544\n"
     ]
    }
   ],
   "source": [
    "# https://scikit-learn.org/stable/modules/generated/sklearn.linear_model.ElasticNet.html\n",
    "elastic = linear_model.ElasticNet()\n",
    "elastic_pipe = pipeline.Pipeline(steps=[('scaler', scaler), ('elastic', elastic)])\n",
    "# Проводим кросс-валидацию\n",
    "elastic_cv = model_selection.cross_validate(elastic_pipe, X, y, scoring=scores, cv=3)\n",
    "\n",
    "# Выводим результаты\n",
    "print('R2 score: ', elastic_cv['test_r2'].mean())\n",
    "print('MSE score: ', elastic_cv['test_neg_mean_squared_error'].mean())\n",
    "print('RMSE score: ', elastic_cv['test_neg_root_mean_squared_error'].mean())\n",
    "print('MAE score: ', elastic_cv['test_neg_mean_absolute_error'].mean())"
   ],
   "metadata": {
    "collapsed": false,
    "pycharm": {
     "name": "#%%\n"
    }
   }
  },
  {
   "cell_type": "markdown",
   "source": [
    "#### Подбор гиперпараметров для Elastic Net регрессии\n",
    "Гиперпараметры Elastic Net:\n",
    "alpha - штрафующий коэффициент\n",
    "l1_ratio - коэффициент смешивания, т.е. l1_ratio = 0 будет означать использование только l2 регуляризации, а l1_ratio - только l1"
   ],
   "metadata": {
    "collapsed": false
   }
  },
  {
   "cell_type": "code",
   "execution_count": 60,
   "outputs": [
    {
     "data": {
      "text/plain": "GridSearchCV(cv=5,\n             estimator=Pipeline(steps=[('scaler', StandardScaler()),\n                                       ('elastic', ElasticNet())]),\n             param_grid={'elastic__alpha': array([0.05, 0.1 , 0.15, 0.2 , 0.25, 0.3 , 0.35, 0.4 , 0.45, 0.5 , 0.55,\n       0.6 , 0.65, 0.7 , 0.75, 0.8 , 0.85, 0.9 , 0.95]),\n                         'elastic__l1_ratio': array([0.1 , 0.15, 0.2 , 0.25, 0.3 , 0.35, 0.4 , 0.45, 0.5 , 0.55, 0.6 ,\n       0.65, 0.7 , 0.75, 0.8 , 0.85])})"
     },
     "execution_count": 60,
     "metadata": {},
     "output_type": "execute_result"
    }
   ],
   "source": [
    "# Подбираем гиперпараметры с помощью GridSearchCV\n",
    "elastic_param_grid = dict(elastic__alpha=np.arange(0.05, 1, 0.05), elastic__l1_ratio=np.arange(0.1, 0.9, 0.05))\n",
    "\n",
    "grid_elastic = model_selection.GridSearchCV(elastic_pipe, elastic_param_grid, cv=5)\n",
    "grid_elastic.fit(X, y)"
   ],
   "metadata": {
    "collapsed": false,
    "pycharm": {
     "name": "#%%\n"
    }
   }
  },
  {
   "cell_type": "code",
   "execution_count": 61,
   "outputs": [
    {
     "name": "stdout",
     "output_type": "stream",
     "text": [
      "R2 score:  0.808664497322139\n",
      "MSE score:  -11.681395157744467\n",
      "RMSE score:  -3.400346544240081\n",
      "MAE score:  -2.55690266712776\n",
      "Wall time: 14.8 ms\n"
     ]
    }
   ],
   "source": [
    "%%time\n",
    "elastic_grid_cv = model_selection.cross_validate(grid_elastic.best_estimator_, X, y, scoring=scores, cv=3)\n",
    "\n",
    "# Выводим результаты\n",
    "print('R2 score: ', elastic_grid_cv['test_r2'].mean())\n",
    "print('MSE score: ', elastic_grid_cv['test_neg_mean_squared_error'].mean())\n",
    "print('RMSE score: ', elastic_grid_cv['test_neg_root_mean_squared_error'].mean())\n",
    "print('MAE score: ', elastic_grid_cv['test_neg_mean_absolute_error'].mean())"
   ],
   "metadata": {
    "collapsed": false,
    "pycharm": {
     "name": "#%%\n"
    }
   }
  },
  {
   "cell_type": "code",
   "execution_count": 62,
   "outputs": [
    {
     "name": "stdout",
     "output_type": "stream",
     "text": [
      "LR R2 score:  0.8094554723789109\n",
      "Tree Regressor R2 score:  0.8023507820845799\n",
      "Lasso R2 score:  0.8090798288094131\n",
      "Ridge R2 score:  0.809656247707327\n",
      "Elastic Net R2 score:  0.808664497322139\n"
     ]
    }
   ],
   "source": [
    "# Конечные результаты моделей\n",
    "print('LR R2 score: ', lr_cv['test_r2'].mean())\n",
    "print('Tree Regressor R2 score: ', tree_grid_cv['test_r2'].mean())\n",
    "print('Lasso R2 score: ', lasso_grid_cv['test_r2'].mean())\n",
    "print('Ridge R2 score: ', ridge_grid_cv['test_r2'].mean())\n",
    "print('Elastic Net R2 score: ', elastic_grid_cv['test_r2'].mean())"
   ],
   "metadata": {
    "collapsed": false,
    "pycharm": {
     "name": "#%%\n"
    }
   }
  },
  {
   "cell_type": "markdown",
   "source": [
    "### Выводы\n",
    "В целом, все модели после подбора параметров выдали практически одинаковые результаты<br>\n",
    "Скорее всего, это связано с тем, что зависимость ключевого атрибута от большинства параметров является близкой к линейной.<br>"
   ],
   "metadata": {
    "collapsed": false,
    "pycharm": {
     "name": "#%% md\n"
    }
   }
  }
 ],
 "metadata": {
  "kernelspec": {
   "display_name": "Python 3",
   "language": "python",
   "name": "python3"
  },
  "language_info": {
   "codemirror_mode": {
    "name": "ipython",
    "version": 2
   },
   "file_extension": ".py",
   "mimetype": "text/x-python",
   "name": "python",
   "nbconvert_exporter": "python",
   "pygments_lexer": "ipython2",
   "version": "2.7.6"
  }
 },
 "nbformat": 4,
 "nbformat_minor": 0
}