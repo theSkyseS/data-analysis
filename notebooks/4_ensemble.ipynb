{
 "cells": [
  {
   "cell_type": "code",
   "metadata": {
    "collapsed": true,
    "pycharm": {
     "name": "#%%\n"
    }
   },
   "source": [
    "import pandas as pd\n",
    "import numpy as np\n",
    "from sklearn import tree, ensemble, metrics, preprocessing, model_selection, linear_model\n",
    "from catboost import CatBoostClassifier, CatBoostRegressor"
   ],
   "execution_count": 27,
   "outputs": []
  },
  {
   "cell_type": "code",
   "execution_count": 88,
   "outputs": [],
   "source": [
    "def print_classification_metrics(estimator, X_test, y_pred, y_test):\n",
    "    print(metrics.confusion_matrix(y_test, y_pred))\n",
    "    print(metrics.classification_report(y_test, y_pred))\n",
    "    print(estimator.score(X_test, y_test))\n",
    "\n",
    "\n",
    "def print_regression_metrics(estimator, y_pred, y_test):\n",
    "    print('MSE:', metrics.mean_squared_error(y_test, y_pred, squared=True))\n",
    "    print('RMSE:', metrics.mean_squared_error(y_test, y_pred, squared=False))\n",
    "    print('MAE:', metrics.mean_absolute_error(y_test, y_pred))\n",
    "    print('R2 Score:', metrics.r2_score(y_test, y_pred))\n",
    "\n",
    "\n",
    "def grid_search_result(estimator, param_grid, X_train, y_train, X_test, y_test, regression=False):\n",
    "    grid_search = model_selection.GridSearchCV(estimator, param_grid, cv=3)\n",
    "    grid_search.fit(X_train, y_train)\n",
    "    y_pred = grid_search.predict(X_test)\n",
    "    print('Best params: ', grid_search.best_params_)\n",
    "    if regression:\n",
    "        print_regression_metrics(estimator, y_pred, y_test)\n",
    "    else:\n",
    "        print_classification_metrics(grid_search, X_test, y_pred, y_test)\n",
    "    return grid_search.best_estimator_"
   ],
   "metadata": {
    "collapsed": false,
    "pycharm": {
     "name": "#%%\n"
    }
   }
  },
  {
   "cell_type": "markdown",
   "source": [
    "## Композиции алгоритмов\n",
    "\n",
    "В данной работе рассмотрены такие композиции алгоритмов как бэггинг, бустинг и стекинг."
   ],
   "metadata": {
    "collapsed": false,
    "pycharm": {
     "name": "#%% md\n"
    }
   }
  },
  {
   "cell_type": "markdown",
   "source": [
    "### Классификация\n",
    "\n",
    "Для классификации в качестве базового алгоритма был выбран DecisionTreeClassifier"
   ],
   "metadata": {
    "collapsed": false,
    "pycharm": {
     "name": "#%% md\n"
    }
   }
  },
  {
   "cell_type": "markdown",
   "source": [
    "#### Подготовка данных"
   ],
   "metadata": {
    "collapsed": false
   }
  },
  {
   "cell_type": "code",
   "execution_count": 52,
   "outputs": [],
   "source": [
    "wine_df = pd.read_csv(\"../data/wine_preprocessed.csv\")\n",
    "wine_df = wine_df.drop(columns='Unnamed: 0')\n",
    "\n",
    "X_wine = wine_df.drop(columns='Cultivar')\n",
    "y_wine = wine_df['Cultivar'].ravel()\n",
    "\n",
    "X_wine_train, X_wine_test, y_wine_train, y_wine_test = model_selection.train_test_split(X_wine, y_wine, test_size=0.2, stratify=y_wine)\n",
    "\n",
    "scaler = preprocessing.StandardScaler()\n",
    "X_wine_train = scaler.fit_transform(X_wine_train, y_wine_train)\n",
    "X_wine_test = scaler.transform(X_wine_test)"
   ],
   "metadata": {
    "collapsed": false,
    "pycharm": {
     "name": "#%%\n"
    }
   }
  },
  {
   "cell_type": "markdown",
   "source": [
    "#### Базовый алгоритм"
   ],
   "metadata": {
    "collapsed": false,
    "pycharm": {
     "name": "#%% md\n"
    }
   }
  },
  {
   "cell_type": "code",
   "execution_count": 53,
   "outputs": [
    {
     "name": "stdout",
     "output_type": "stream",
     "text": [
      "Best params:  {'max_depth': 17, 'min_samples_leaf': 2}\n",
      "[[12  0  0]\n",
      " [ 1 12  1]\n",
      " [ 0  1  9]]\n",
      "              precision    recall  f1-score   support\n",
      "\n",
      "           1       0.92      1.00      0.96        12\n",
      "           2       0.92      0.86      0.89        14\n",
      "           3       0.90      0.90      0.90        10\n",
      "\n",
      "    accuracy                           0.92        36\n",
      "   macro avg       0.92      0.92      0.92        36\n",
      "weighted avg       0.92      0.92      0.92        36\n",
      "\n",
      "0.9166666666666666\n",
      "Wall time: 681 ms\n"
     ]
    }
   ],
   "source": [
    "%%time\n",
    "\n",
    "tree_classifier = tree.DecisionTreeClassifier()\n",
    "tree_classifier_param_grid = dict(max_depth=[2, 3, 5, 7, 9, 10, 12, 15, 17, 20, 25, None], min_samples_leaf=np.arange(1, 15, 1))\n",
    "\n",
    "best_tree = grid_search_result(tree_classifier, tree_classifier_param_grid, X_wine_train, y_wine_train, X_wine_test, y_wine_test)"
   ],
   "metadata": {
    "collapsed": false,
    "pycharm": {
     "name": "#%%\n"
    }
   }
  },
  {
   "cell_type": "markdown",
   "source": [
    "#### Бэггинг"
   ],
   "metadata": {
    "collapsed": false,
    "pycharm": {
     "name": "#%% md\n"
    }
   }
  },
  {
   "cell_type": "code",
   "execution_count": 8,
   "outputs": [
    {
     "name": "stdout",
     "output_type": "stream",
     "text": [
      "Best params:  {'bootstrap_features': True, 'max_features': 3, 'n_estimators': 61}\n",
      "[[11  1  0]\n",
      " [ 0 14  0]\n",
      " [ 0  0 10]]\n",
      "              precision    recall  f1-score   support\n",
      "\n",
      "           1       1.00      0.92      0.96        12\n",
      "           2       0.93      1.00      0.97        14\n",
      "           3       1.00      1.00      1.00        10\n",
      "\n",
      "    accuracy                           0.97        36\n",
      "   macro avg       0.98      0.97      0.97        36\n",
      "weighted avg       0.97      0.97      0.97        36\n",
      "\n",
      "0.9722222222222222\n",
      "Wall time: 9.11 s\n"
     ]
    }
   ],
   "source": [
    "%%time\n",
    "bagging_classifier = ensemble.BaggingClassifier(best_tree)\n",
    "bagging_classifier_param_grid = dict(n_estimators= np.arange(1, 102, 20),\n",
    "                                     max_features= np.arange(3, 14, 2),\n",
    "                                    bootstrap_features= [True])\n",
    "\n",
    "best_bagging = grid_search_result(bagging_classifier, bagging_classifier_param_grid, X_wine_train, y_wine_train, X_wine_test, y_wine_test)"
   ],
   "metadata": {
    "collapsed": false,
    "pycharm": {
     "name": "#%%\n"
    }
   }
  },
  {
   "cell_type": "markdown",
   "source": [
    "#### Градиентный бустинг"
   ],
   "metadata": {
    "collapsed": false
   }
  },
  {
   "cell_type": "code",
   "execution_count": 7,
   "outputs": [
    {
     "name": "stdout",
     "output_type": "stream",
     "text": [
      "Best params:  {'max_features': 3, 'n_estimators': 21}\n",
      "[[12  0  0]\n",
      " [ 1 13  0]\n",
      " [ 0  0 10]]\n",
      "              precision    recall  f1-score   support\n",
      "\n",
      "           1       0.92      1.00      0.96        12\n",
      "           2       1.00      0.93      0.96        14\n",
      "           3       1.00      1.00      1.00        10\n",
      "\n",
      "    accuracy                           0.97        36\n",
      "   macro avg       0.97      0.98      0.97        36\n",
      "weighted avg       0.97      0.97      0.97        36\n",
      "\n",
      "0.9722222222222222\n",
      "Wall time: 20.6 s\n"
     ]
    }
   ],
   "source": [
    "%%time\n",
    "boosting_classifier = ensemble.GradientBoostingClassifier(max_depth=best_tree.max_depth, min_samples_leaf=best_tree.min_samples_leaf)\n",
    "boosting_classifier_param_grid = dict(n_estimators= np.arange(1, 102, 10),\n",
    "                                      max_features= np.arange(3, 14, 2))\n",
    "\n",
    "best_boosting = grid_search_result(boosting_classifier, boosting_classifier_param_grid, X_wine_train, y_wine_train, X_wine_test, y_wine_test)"
   ],
   "metadata": {
    "collapsed": false,
    "pycharm": {
     "name": "#%%\n"
    }
   }
  },
  {
   "cell_type": "markdown",
   "source": [
    "#### Стекинг"
   ],
   "metadata": {
    "collapsed": false,
    "pycharm": {
     "name": "#%% md\n"
    }
   }
  },
  {
   "cell_type": "code",
   "execution_count": 11,
   "outputs": [
    {
     "name": "stdout",
     "output_type": "stream",
     "text": [
      "[[12  0  0]\n",
      " [ 0 14  0]\n",
      " [ 0  0 10]]\n",
      "              precision    recall  f1-score   support\n",
      "\n",
      "           1       1.00      1.00      1.00        12\n",
      "           2       1.00      1.00      1.00        14\n",
      "           3       1.00      1.00      1.00        10\n",
      "\n",
      "    accuracy                           1.00        36\n",
      "   macro avg       1.00      1.00      1.00        36\n",
      "weighted avg       1.00      1.00      1.00        36\n",
      "\n",
      "1.0\n",
      "Wall time: 882 ms\n"
     ]
    }
   ],
   "source": [
    "%%time\n",
    "stacking_classifier = ensemble.StackingClassifier(estimators=[('bagging', best_bagging), ('boosting',best_boosting)])\n",
    "stacking_classifier.fit(X_wine_train, y_wine_train)\n",
    "stacking_classifier_pred = stacking_classifier.predict(X_wine_test)\n",
    "print_classification_metrics(stacking_classifier, X_wine_test, stacking_classifier_pred, y_wine_test)"
   ],
   "metadata": {
    "collapsed": false,
    "pycharm": {
     "name": "#%%\n"
    }
   }
  },
  {
   "cell_type": "markdown",
   "source": [
    "#### CatBoostClassifier"
   ],
   "metadata": {
    "collapsed": false,
    "pycharm": {
     "name": "#%% md\n"
    }
   }
  },
  {
   "cell_type": "code",
   "execution_count": 25,
   "outputs": [
    {
     "name": "stdout",
     "output_type": "stream",
     "text": [
      "[[12  0  0]\n",
      " [ 2 12  0]\n",
      " [ 0  0 10]]\n",
      "              precision    recall  f1-score   support\n",
      "\n",
      "           1       0.86      1.00      0.92        12\n",
      "           2       1.00      0.86      0.92        14\n",
      "           3       1.00      1.00      1.00        10\n",
      "\n",
      "    accuracy                           0.94        36\n",
      "   macro avg       0.95      0.95      0.95        36\n",
      "weighted avg       0.95      0.94      0.94        36\n",
      "\n",
      "0.9444444444444444\n",
      "Wall time: 1.85 s\n"
     ]
    }
   ],
   "source": [
    "%%time\n",
    "catboost_classifier = CatBoostClassifier(verbose=False)\n",
    "catboost_classifier.fit(X_wine_train, y_wine_train)\n",
    "catboost_classifier_pred = catboost_classifier.predict(X_wine_test)\n",
    "print_classification_metrics(catboost_classifier, X_wine_test,catboost_classifier_pred, y_wine_test)"
   ],
   "metadata": {
    "collapsed": false,
    "pycharm": {
     "name": "#%%\n"
    }
   }
  },
  {
   "cell_type": "markdown",
   "source": [
    "### Регрессия\n",
    "\n",
    "В качестве базового алгоритма для регрессии выбрана Elastic Net регрессию"
   ],
   "metadata": {
    "collapsed": false,
    "pycharm": {
     "name": "#%% md\n"
    }
   }
  },
  {
   "cell_type": "markdown",
   "source": [
    "#### Подготовка данных"
   ],
   "metadata": {
    "collapsed": false
   }
  },
  {
   "cell_type": "code",
   "execution_count": 39,
   "outputs": [],
   "source": [
    "mpg_df = pd.read_csv(\"../data/auto_mpg_preprocessed.csv\")\n",
    "mpg_df = mpg_df.drop(columns=['Unnamed: 0', 'car name'])\n",
    "\n",
    "X_mpg = mpg_df.drop(columns='mpg')\n",
    "y_mpg = mpg_df['mpg'].ravel()\n",
    "\n",
    "X_mpg_train, X_mpg_test, y_mpg_train, y_mpg_test = model_selection.train_test_split(X_mpg, y_mpg, test_size=0.2)\n",
    "\n",
    "scaler = preprocessing.StandardScaler()\n",
    "X_mpg_train = scaler.fit_transform(X_mpg_train, y_mpg_train)\n",
    "X_mpg_test = scaler.transform(X_mpg_test)"
   ],
   "metadata": {
    "collapsed": false,
    "pycharm": {
     "name": "#%%\n"
    }
   }
  },
  {
   "cell_type": "markdown",
   "source": [
    "#### Базовый алгоритм"
   ],
   "metadata": {
    "collapsed": false
   }
  },
  {
   "cell_type": "code",
   "execution_count": 80,
   "outputs": [
    {
     "name": "stdout",
     "output_type": "stream",
     "text": [
      "Best params:  {'max_depth': 9, 'min_samples_leaf': 5}\n",
      "MSE: 8.993650367005685\n",
      "RMSE: 8.993650367005685\n",
      "MAE: 2.2692957604982924\n",
      "R2 Score: 0.8318106570715991\n",
      "Wall time: 679 ms\n"
     ]
    }
   ],
   "source": [
    "%%time\n",
    "\n",
    "elastic_net = tree.DecisionTreeRegressor() # linear_model.ElasticNet()\n",
    "elastic_param_grid = tree_classifier_param_grid # dict(alpha=np.arange(0.05, 1, 0.05), l1_ratio=np.arange(0.1, 1, 0.05))\n",
    "best_elastic_net = grid_search_result(elastic_net, elastic_param_grid, X_mpg_train, y_mpg_train, X_mpg_test, y_mpg_test, regression=True)"
   ],
   "metadata": {
    "collapsed": false,
    "pycharm": {
     "name": "#%%\n"
    }
   }
  },
  {
   "cell_type": "markdown",
   "source": [
    "#### Бэггинг"
   ],
   "metadata": {
    "collapsed": false
   }
  },
  {
   "cell_type": "code",
   "execution_count": 81,
   "outputs": [
    {
     "name": "stdout",
     "output_type": "stream",
     "text": [
      "Best params:  {'bootstrap_features': True, 'max_features': 7, 'n_estimators': 21}\n",
      "MSE: 7.267600894619605\n",
      "RMSE: 7.267600894619605\n",
      "MAE: 2.0383285335076295\n",
      "R2 Score: 0.8640893331125914\n",
      "Wall time: 8.5 s\n"
     ]
    }
   ],
   "source": [
    "%%time\n",
    "bagging_regressor = ensemble.BaggingRegressor(best_elastic_net)\n",
    "bagging_regressor_param_grid = dict(n_estimators= np.arange(1, 102, 20),\n",
    "                                     max_features= np.arange(2, 8, 1),\n",
    "                                    bootstrap_features= [True])\n",
    "\n",
    "best_bagging_regressor = grid_search_result(bagging_regressor, bagging_regressor_param_grid, X_mpg_train, y_mpg_train, X_mpg_test, y_mpg_test, regression=True)"
   ],
   "metadata": {
    "collapsed": false,
    "pycharm": {
     "name": "#%%\n"
    }
   }
  },
  {
   "cell_type": "markdown",
   "source": [
    "#### Градиентный бустинг"
   ],
   "metadata": {
    "collapsed": false
   }
  },
  {
   "cell_type": "code",
   "execution_count": 82,
   "outputs": [
    {
     "name": "stdout",
     "output_type": "stream",
     "text": [
      "Best params:  {'max_features': 4, 'n_estimators': 31}\n",
      "MSE: 6.717019285793922\n",
      "RMSE: 6.717019285793922\n",
      "MAE: 1.953708514202628\n",
      "R2 Score: 0.8743857039117693\n",
      "Wall time: 4.75 s\n"
     ]
    }
   ],
   "source": [
    "%%time\n",
    "boosting_regressor = ensemble.GradientBoostingRegressor(max_depth=best_elastic_net.max_depth, min_samples_leaf=best_elastic_net.min_samples_leaf)\n",
    "boosting_regressor_param_grid = dict(n_estimators= np.arange(1, 102, 10),\n",
    "                                     max_features= np.arange(2, 8, 1))\n",
    "\n",
    "best_boosting_regressor = grid_search_result(boosting_regressor, boosting_regressor_param_grid, X_mpg_train, y_mpg_train, X_mpg_test, y_mpg_test, regression=True)"
   ],
   "metadata": {
    "collapsed": false,
    "pycharm": {
     "name": "#%%\n"
    }
   }
  },
  {
   "cell_type": "markdown",
   "source": [
    "#### Стекинг"
   ],
   "metadata": {
    "collapsed": false
   }
  },
  {
   "cell_type": "code",
   "execution_count": 90,
   "outputs": [
    {
     "name": "stdout",
     "output_type": "stream",
     "text": [
      "MSE: 6.692153214707929\n",
      "RMSE: 2.586919638239257\n",
      "MAE: 1.9768129513559922\n",
      "R2 Score: 0.8748507217839903\n",
      "Wall time: 322 ms\n"
     ]
    }
   ],
   "source": [
    "%%time\n",
    "stacking_regressor = ensemble.StackingRegressor(estimators=[('bagging', best_bagging_regressor), ('boosting',best_boosting_regressor)])\n",
    "stacking_regressor.fit(X_mpg_train, y_mpg_train)\n",
    "stacking_regressor_pred = stacking_regressor.predict(X_mpg_test)\n",
    "print_regression_metrics(stacking_regressor, stacking_regressor_pred, y_mpg_test)"
   ],
   "metadata": {
    "collapsed": false,
    "pycharm": {
     "name": "#%%\n"
    }
   }
  },
  {
   "cell_type": "markdown",
   "source": [
    "#### CatBoostRegressor"
   ],
   "metadata": {
    "collapsed": false
   }
  },
  {
   "cell_type": "code",
   "execution_count": 89,
   "outputs": [
    {
     "name": "stdout",
     "output_type": "stream",
     "text": [
      "MSE: 5.433303700735021\n",
      "RMSE: 2.3309448085990843\n",
      "MAE: 1.7768154362819373\n",
      "R2 Score: 0.8983923388094397\n",
      "Wall time: 1.57 s\n"
     ]
    }
   ],
   "source": [
    "%%time\n",
    "catboost_regressor = CatBoostRegressor(verbose=False)\n",
    "catboost_regressor.fit(X_mpg_train, y_mpg_train)\n",
    "catboost_regressor_pred = catboost_regressor.predict(X_mpg_test)\n",
    "print_regression_metrics(catboost_regressor , catboost_regressor_pred, y_mpg_test)"
   ],
   "metadata": {
    "collapsed": false,
    "pycharm": {
     "name": "#%%\n"
    }
   }
  },
  {
   "cell_type": "markdown",
   "source": [],
   "metadata": {
    "collapsed": false
   }
  }
 ],
 "metadata": {
  "kernelspec": {
   "display_name": "Python 3",
   "language": "python",
   "name": "python3"
  },
  "language_info": {
   "codemirror_mode": {
    "name": "ipython",
    "version": 2
   },
   "file_extension": ".py",
   "mimetype": "text/x-python",
   "name": "python",
   "nbconvert_exporter": "python",
   "pygments_lexer": "ipython2",
   "version": "2.7.6"
  }
 },
 "nbformat": 4,
 "nbformat_minor": 0
}