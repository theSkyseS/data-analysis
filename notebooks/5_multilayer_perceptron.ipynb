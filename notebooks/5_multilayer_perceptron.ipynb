{
 "cells": [
  {
   "cell_type": "code",
   "execution_count": 2,
   "metadata": {
    "collapsed": true
   },
   "outputs": [],
   "source": [
    "import numpy as np"
   ]
  },
  {
   "cell_type": "code",
   "execution_count": 17,
   "outputs": [],
   "source": [
    "def sigmoid(z):\n",
    "    return 1.0/(1.0+np.exp(-z))\n",
    "\n",
    "\n",
    "def sigmoid_derivative(z):\n",
    "    return sigmoid(z)*(1-sigmoid(z))\n",
    "\n",
    "\n",
    "def tanh(z):\n",
    "    return np.tanh(z)\n",
    "\n",
    "\n",
    "def tanh_derivative(z):\n",
    "    return 1 - np.square(tanh(z))\n",
    "\n",
    "\n",
    "def relu(z):\n",
    "    return np.maximum(z, 0)\n",
    "\n",
    "\n",
    "def relu_derivative(z):\n",
    "    return int(z >= 0)\n",
    "\n",
    "ACTIVATIONS = {'sigmoid': sigmoid,\n",
    "               'tanh': tanh,\n",
    "               'relu': relu}\n",
    "DERIVATIVES = {'sigmoid': sigmoid_derivative,\n",
    "               'tanh': tanh_derivative,\n",
    "               'relu': relu_derivative}"
   ],
   "metadata": {
    "collapsed": false,
    "pycharm": {
     "name": "#%%\n"
    }
   }
  },
  {
   "cell_type": "code",
   "execution_count": 8,
   "outputs": [],
   "source": [
    "class MultilayerPerceptron(object):\n",
    "\n",
    "    def __init__(self, layers, activation_functions):\n",
    "        self.layers_count = len(layers)\n",
    "        self.layers = layers\n",
    "        self.weights = [np.random.randn(y, x)\n",
    "                        for x, y in zip(layers[:-1], layers[1:])]\n",
    "        self.biases = [np.random.randn(y, 1) for y in layers[1:]]\n",
    "\n",
    "    def feedforward(self):"
   ],
   "metadata": {
    "collapsed": false,
    "pycharm": {
     "name": "#%%\n"
    }
   }
  },
  {
   "cell_type": "code",
   "execution_count": 16,
   "outputs": [
    {
     "data": {
      "text/plain": "1"
     },
     "execution_count": 16,
     "metadata": {},
     "output_type": "execute_result"
    }
   ],
   "source": [
    "mp = MultilayerPerceptron([2, 3, 1], None)"
   ],
   "metadata": {
    "collapsed": false,
    "pycharm": {
     "name": "#%%\n"
    }
   }
  }
 ],
 "metadata": {
  "kernelspec": {
   "display_name": "Python 3",
   "language": "python",
   "name": "python3"
  },
  "language_info": {
   "codemirror_mode": {
    "name": "ipython",
    "version": 2
   },
   "file_extension": ".py",
   "mimetype": "text/x-python",
   "name": "python",
   "nbconvert_exporter": "python",
   "pygments_lexer": "ipython2",
   "version": "2.7.6"
  }
 },
 "nbformat": 4,
 "nbformat_minor": 0
}