{
 "cells": [
  {
   "cell_type": "code",
   "execution_count": 217,
   "outputs": [],
   "source": [
    "import pandas as pd\n",
    "import numpy as np\n",
    "from sklearn import linear_model, model_selection, metrics, \\\n",
    "    preprocessing, neighbors, tree, naive_bayes, svm, pipeline"
   ],
   "metadata": {
    "collapsed": false,
    "pycharm": {
     "name": "#%%\n"
    }
   }
  },
  {
   "cell_type": "code",
   "execution_count": 218,
   "outputs": [
    {
     "data": {
      "text/plain": "   Cultivar  Alcohol  Malic acid   Ash  Alcalinity of ash  Magnesium  \\\n0         1    14.23        1.71  2.43               15.6        127   \n1         1    13.20        1.78  2.14               11.2        100   \n2         1    13.16        2.36  2.67               18.6        101   \n3         1    14.37        1.95  2.50               16.8        113   \n4         1    13.24        2.59  2.87               21.0        118   \n\n   Total phenols  Flavanoids  Nonflavanoid phenols  Proanthocyanins  \\\n0           2.80        3.06                  0.28             2.29   \n1           2.65        2.76                  0.26             1.28   \n2           2.80        3.24                  0.30             2.81   \n3           3.85        3.49                  0.24             2.18   \n4           2.80        2.69                  0.39             1.82   \n\n   Color intensity   Hue  OD280/OD315  Proline  \n0             5.64  1.04         3.92     1065  \n1             4.38  1.05         3.40     1050  \n2             5.68  1.03         3.17     1185  \n3             7.80  0.86         3.45     1480  \n4             4.32  1.04         2.93      735  ",
      "text/html": "<div>\n<style scoped>\n    .dataframe tbody tr th:only-of-type {\n        vertical-align: middle;\n    }\n\n    .dataframe tbody tr th {\n        vertical-align: top;\n    }\n\n    .dataframe thead th {\n        text-align: right;\n    }\n</style>\n<table border=\"1\" class=\"dataframe\">\n  <thead>\n    <tr style=\"text-align: right;\">\n      <th></th>\n      <th>Cultivar</th>\n      <th>Alcohol</th>\n      <th>Malic acid</th>\n      <th>Ash</th>\n      <th>Alcalinity of ash</th>\n      <th>Magnesium</th>\n      <th>Total phenols</th>\n      <th>Flavanoids</th>\n      <th>Nonflavanoid phenols</th>\n      <th>Proanthocyanins</th>\n      <th>Color intensity</th>\n      <th>Hue</th>\n      <th>OD280/OD315</th>\n      <th>Proline</th>\n    </tr>\n  </thead>\n  <tbody>\n    <tr>\n      <th>0</th>\n      <td>1</td>\n      <td>14.23</td>\n      <td>1.71</td>\n      <td>2.43</td>\n      <td>15.6</td>\n      <td>127</td>\n      <td>2.80</td>\n      <td>3.06</td>\n      <td>0.28</td>\n      <td>2.29</td>\n      <td>5.64</td>\n      <td>1.04</td>\n      <td>3.92</td>\n      <td>1065</td>\n    </tr>\n    <tr>\n      <th>1</th>\n      <td>1</td>\n      <td>13.20</td>\n      <td>1.78</td>\n      <td>2.14</td>\n      <td>11.2</td>\n      <td>100</td>\n      <td>2.65</td>\n      <td>2.76</td>\n      <td>0.26</td>\n      <td>1.28</td>\n      <td>4.38</td>\n      <td>1.05</td>\n      <td>3.40</td>\n      <td>1050</td>\n    </tr>\n    <tr>\n      <th>2</th>\n      <td>1</td>\n      <td>13.16</td>\n      <td>2.36</td>\n      <td>2.67</td>\n      <td>18.6</td>\n      <td>101</td>\n      <td>2.80</td>\n      <td>3.24</td>\n      <td>0.30</td>\n      <td>2.81</td>\n      <td>5.68</td>\n      <td>1.03</td>\n      <td>3.17</td>\n      <td>1185</td>\n    </tr>\n    <tr>\n      <th>3</th>\n      <td>1</td>\n      <td>14.37</td>\n      <td>1.95</td>\n      <td>2.50</td>\n      <td>16.8</td>\n      <td>113</td>\n      <td>3.85</td>\n      <td>3.49</td>\n      <td>0.24</td>\n      <td>2.18</td>\n      <td>7.80</td>\n      <td>0.86</td>\n      <td>3.45</td>\n      <td>1480</td>\n    </tr>\n    <tr>\n      <th>4</th>\n      <td>1</td>\n      <td>13.24</td>\n      <td>2.59</td>\n      <td>2.87</td>\n      <td>21.0</td>\n      <td>118</td>\n      <td>2.80</td>\n      <td>2.69</td>\n      <td>0.39</td>\n      <td>1.82</td>\n      <td>4.32</td>\n      <td>1.04</td>\n      <td>2.93</td>\n      <td>735</td>\n    </tr>\n  </tbody>\n</table>\n</div>"
     },
     "execution_count": 218,
     "metadata": {},
     "output_type": "execute_result"
    }
   ],
   "source": [
    "# Загружаем обработанный набор данных\n",
    "wine_df = pd.read_csv(\"../data/wine_preprocessed.csv\")\n",
    "wine_df = wine_df.drop(columns=\"Unnamed: 0\")\n",
    "wine_df.head()"
   ],
   "metadata": {
    "collapsed": false,
    "pycharm": {
     "name": "#%%\n"
    }
   }
  },
  {
   "cell_type": "code",
   "execution_count": 219,
   "outputs": [],
   "source": [
    "# Отделяем ключевой атрибут\n",
    "X = wine_df.drop(columns='Cultivar').values\n",
    "y = wine_df.iloc[:, :1].values\n",
    "y = y.ravel()"
   ],
   "metadata": {
    "collapsed": false,
    "pycharm": {
     "name": "#%%\n"
    }
   }
  },
  {
   "cell_type": "code",
   "execution_count": 220,
   "outputs": [],
   "source": [
    "# Разделяем выборку на обучение и тест\n",
    "\n",
    "X_train, X_test, y_train, y_test = model_selection.train_test_split(X, y)"
   ],
   "metadata": {
    "collapsed": false,
    "pycharm": {
     "name": "#%%\n"
    }
   }
  },
  {
   "cell_type": "code",
   "execution_count": 221,
   "outputs": [],
   "source": [
    "# Объявляем StandardScaler для нормализации данных\n",
    "\n",
    "scaler = preprocessing.StandardScaler()"
   ],
   "metadata": {
    "collapsed": false,
    "pycharm": {
     "name": "#%%\n"
    }
   }
  },
  {
   "cell_type": "markdown",
   "source": [
    "### Метод k-ближайших соседей (K-Nearest Neighbors)\n"
   ],
   "metadata": {
    "collapsed": false,
    "pycharm": {
     "name": "#%% md\n"
    }
   }
  },
  {
   "cell_type": "code",
   "execution_count": 222,
   "outputs": [],
   "source": [
    "# https://scikit-learn.org/stable/modules/generated/sklearn.neighbors.KNeighborsClassifier.html\n",
    "KN_classifier = neighbors.KNeighborsClassifier()"
   ],
   "metadata": {
    "collapsed": false,
    "pycharm": {
     "name": "#%%\n"
    }
   }
  },
  {
   "cell_type": "code",
   "execution_count": 223,
   "outputs": [
    {
     "name": "stdout",
     "output_type": "stream",
     "text": [
      "              precision    recall  f1-score   support\n",
      "\n",
      "           1       0.95      1.00      0.97        18\n",
      "           2       1.00      0.87      0.93        15\n",
      "           3       0.92      1.00      0.96        12\n",
      "\n",
      "    accuracy                           0.96        45\n",
      "   macro avg       0.96      0.96      0.95        45\n",
      "weighted avg       0.96      0.96      0.95        45\n",
      "\n",
      "0.9555555555555556\n",
      "              precision    recall  f1-score   support\n",
      "\n",
      "           1       0.95      1.00      0.97        18\n",
      "           2       1.00      0.87      0.93        15\n",
      "           3       0.92      1.00      0.96        12\n",
      "\n",
      "    accuracy                           0.96        45\n",
      "   macro avg       0.96      0.96      0.95        45\n",
      "weighted avg       0.96      0.96      0.95        45\n",
      "\n",
      "0.9555555555555556\n",
      "              precision    recall  f1-score   support\n",
      "\n",
      "           1       0.95      1.00      0.97        18\n",
      "           2       1.00      0.87      0.93        15\n",
      "           3       0.92      1.00      0.96        12\n",
      "\n",
      "    accuracy                           0.96        45\n",
      "   macro avg       0.96      0.96      0.95        45\n",
      "weighted avg       0.96      0.96      0.95        45\n",
      "\n",
      "0.9555555555555556\n",
      "              precision    recall  f1-score   support\n",
      "\n",
      "           1       0.95      1.00      0.97        18\n",
      "           2       1.00      0.87      0.93        15\n",
      "           3       0.92      1.00      0.96        12\n",
      "\n",
      "    accuracy                           0.96        45\n",
      "   macro avg       0.96      0.96      0.95        45\n",
      "weighted avg       0.96      0.96      0.95        45\n",
      "\n",
      "0.9555555555555556\n",
      "              precision    recall  f1-score   support\n",
      "\n",
      "           1       0.95      1.00      0.97        18\n",
      "           2       1.00      0.87      0.93        15\n",
      "           3       0.92      1.00      0.96        12\n",
      "\n",
      "    accuracy                           0.96        45\n",
      "   macro avg       0.96      0.96      0.95        45\n",
      "weighted avg       0.96      0.96      0.95        45\n",
      "\n",
      "0.9555555555555556\n"
     ]
    }
   ],
   "source": [
    "# Кросс-валидация, используя StratifiedKFold\n",
    "skf = model_selection.StratifiedKFold(n_splits=5, shuffle=True)\n",
    "for train_index, test_index in skf.split(X, y):\n",
    "  X_train_cv, X_test_cv = X[train_index], X[test_index]\n",
    "  y_train_cv, y_test_cv = y[train_index], y[test_index]\n",
    "  pipe_KN = pipeline.make_pipeline(scaler, KN_classifier)\n",
    "  pipe_KN.fit(X_train, y_train)\n",
    "  y_pred = pipe_KN.predict(X_test)\n",
    "  print(metrics.classification_report(y_test, y_pred))\n",
    "  print(pipe_KN.score(X_test, y_test))"
   ],
   "metadata": {
    "collapsed": false,
    "pycharm": {
     "name": "#%%\n"
    }
   }
  },
  {
   "cell_type": "code",
   "execution_count": 224,
   "outputs": [],
   "source": [
    "# Подбор гиперпараметров, используя GridSearchCV\n",
    "pipe_KN = pipeline.Pipeline(steps=[('scaler', scaler), ('KNC', KN_classifier)])\n",
    "param_grid = dict(scaler=['passthrough', scaler] ,KNC__n_neighbors=[3, 5, 10, 15, 20], KNC__p=[1, 2], KNC__weights=['uniform', 'distance'])"
   ],
   "metadata": {
    "collapsed": false,
    "pycharm": {
     "name": "#%%\n"
    }
   }
  },
  {
   "cell_type": "code",
   "execution_count": 225,
   "outputs": [
    {
     "name": "stdout",
     "output_type": "stream",
     "text": [
      "Wall time: 1.31 s\n"
     ]
    },
    {
     "data": {
      "text/plain": "GridSearchCV(cv=10,\n             estimator=Pipeline(steps=[('scaler', StandardScaler()),\n                                       ('KNC', KNeighborsClassifier())]),\n             param_grid={'KNC__n_neighbors': [3, 5, 10, 15, 20],\n                         'KNC__p': [1, 2],\n                         'KNC__weights': ['uniform', 'distance'],\n                         'scaler': ['passthrough', StandardScaler()]},\n             scoring='f1_micro')"
     },
     "execution_count": 225,
     "metadata": {},
     "output_type": "execute_result"
    }
   ],
   "source": [
    "%%time\n",
    "grid_search_KN = model_selection.GridSearchCV(pipe_KN, param_grid, scoring='f1_micro', cv=10)\n",
    "grid_search_KN.fit(X, y)"
   ],
   "metadata": {
    "collapsed": false,
    "pycharm": {
     "name": "#%%\n"
    }
   }
  },
  {
   "cell_type": "code",
   "execution_count": 226,
   "outputs": [
    {
     "name": "stdout",
     "output_type": "stream",
     "text": [
      "{'KNC__n_neighbors': 10, 'KNC__p': 1, 'KNC__weights': 'distance', 'scaler': StandardScaler()}\n",
      "0.9777777777777779\n"
     ]
    }
   ],
   "source": [
    "# Лучшие значения параметров для K-Nearest Neighbors\n",
    "print(grid_search_KN.best_params_)\n",
    "print(grid_search_KN.best_score_)"
   ],
   "metadata": {
    "collapsed": false,
    "pycharm": {
     "name": "#%%\n"
    }
   }
  },
  {
   "cell_type": "markdown",
   "source": [
    "### Классификатор дерева решений (Decision Tree Classifier)"
   ],
   "metadata": {
    "collapsed": false
   }
  },
  {
   "cell_type": "code",
   "execution_count": 227,
   "outputs": [],
   "source": [
    "# https://scikit-learn.org/stable/modules/tree.html\n",
    "tree_classifier = tree.DecisionTreeClassifier()"
   ],
   "metadata": {
    "collapsed": false,
    "pycharm": {
     "name": "#%%\n"
    }
   }
  },
  {
   "cell_type": "code",
   "execution_count": 228,
   "outputs": [
    {
     "name": "stdout",
     "output_type": "stream",
     "text": [
      "[[17  1  0]\n",
      " [ 0 14  1]\n",
      " [ 0  0 12]]\n",
      "              precision    recall  f1-score   support\n",
      "\n",
      "           1       1.00      0.94      0.97        18\n",
      "           2       0.93      0.93      0.93        15\n",
      "           3       0.92      1.00      0.96        12\n",
      "\n",
      "    accuracy                           0.96        45\n",
      "   macro avg       0.95      0.96      0.95        45\n",
      "weighted avg       0.96      0.96      0.96        45\n",
      "\n"
     ]
    }
   ],
   "source": [
    "pipe_tree = pipeline.Pipeline(steps=[('scaler', scaler), ('tree', tree_classifier)])\n",
    "pipe_tree.fit(X_train, y_train)\n",
    "\n",
    "y_pred_tree = pipe_tree.predict(X_test)\n",
    "print(metrics.confusion_matrix(y_test, y_pred_tree))\n",
    "print(metrics.classification_report(y_test,  y_pred_tree))"
   ],
   "metadata": {
    "collapsed": false,
    "pycharm": {
     "name": "#%%\n"
    }
   }
  },
  {
   "cell_type": "code",
   "execution_count": 229,
   "outputs": [
    {
     "name": "stdout",
     "output_type": "stream",
     "text": [
      "0.8653968253968254\n"
     ]
    }
   ],
   "source": [
    "# Кросс-валидация с использованием cross_val_score\n",
    "\n",
    "pipe_tree = pipeline.Pipeline(steps=[('scaler', scaler), ('tree', tree_classifier)])\n",
    "score = model_selection.cross_val_score(pipe_tree, X, y, cv=5)\n",
    "print(score.mean())"
   ],
   "metadata": {
    "collapsed": false,
    "pycharm": {
     "name": "#%%\n"
    }
   }
  },
  {
   "cell_type": "code",
   "execution_count": 230,
   "outputs": [
    {
     "data": {
      "text/plain": "{'memory': None,\n 'steps': [('scaler', StandardScaler()), ('tree', DecisionTreeClassifier())],\n 'verbose': False,\n 'scaler': StandardScaler(),\n 'tree': DecisionTreeClassifier(),\n 'scaler__copy': True,\n 'scaler__with_mean': True,\n 'scaler__with_std': True,\n 'tree__ccp_alpha': 0.0,\n 'tree__class_weight': None,\n 'tree__criterion': 'gini',\n 'tree__max_depth': None,\n 'tree__max_features': None,\n 'tree__max_leaf_nodes': None,\n 'tree__min_impurity_decrease': 0.0,\n 'tree__min_impurity_split': None,\n 'tree__min_samples_leaf': 1,\n 'tree__min_samples_split': 2,\n 'tree__min_weight_fraction_leaf': 0.0,\n 'tree__presort': 'deprecated',\n 'tree__random_state': None,\n 'tree__splitter': 'best'}"
     },
     "execution_count": 230,
     "metadata": {},
     "output_type": "execute_result"
    }
   ],
   "source": [
    "# Подбор гиперпараметров\n",
    "pipe_tree.get_params()"
   ],
   "metadata": {
    "collapsed": false,
    "pycharm": {
     "name": "#%%\n"
    }
   }
  },
  {
   "cell_type": "code",
   "execution_count": 231,
   "outputs": [
    {
     "name": "stdout",
     "output_type": "stream",
     "text": [
      "Wall time: 1.02 s\n"
     ]
    },
    {
     "data": {
      "text/plain": "GridSearchCV(cv=5,\n             estimator=Pipeline(steps=[('scaler', StandardScaler()),\n                                       ('tree', DecisionTreeClassifier())]),\n             param_grid={'tree__criterion': ['gini', 'entropy'],\n                         'tree__max_depth': [2, 5, 10, 20, 50, 100],\n                         'tree__min_samples_leaf': [1, 2, 3, 4, 5, 10]},\n             scoring='f1_micro')"
     },
     "execution_count": 231,
     "metadata": {},
     "output_type": "execute_result"
    }
   ],
   "source": [
    "%%time\n",
    "param_grid = dict(tree__max_depth=[2, 5, 10, 20, 50, 100], tree__criterion=['gini', 'entropy'], tree__min_samples_leaf=[1, 2, 3, 4, 5, 10])\n",
    "grid_search_tree = model_selection.GridSearchCV(pipe_tree, param_grid, scoring='f1_micro', cv=5)\n",
    "grid_search_tree.fit(X, y)"
   ],
   "metadata": {
    "collapsed": false,
    "pycharm": {
     "name": "#%%\n"
    }
   }
  },
  {
   "cell_type": "code",
   "execution_count": 232,
   "outputs": [
    {
     "name": "stdout",
     "output_type": "stream",
     "text": [
      "{'tree__criterion': 'entropy', 'tree__max_depth': 5, 'tree__min_samples_leaf': 3}\n",
      "0.9276190476190477\n"
     ]
    }
   ],
   "source": [
    "# Наилучшие параметры\n",
    "print(grid_search_tree.best_params_)\n",
    "print(grid_search_tree.best_score_)"
   ],
   "metadata": {
    "collapsed": false,
    "pycharm": {
     "name": "#%%\n"
    }
   }
  },
  {
   "cell_type": "markdown",
   "source": [
    "### Наивный байесовский классификатор (Naive Bayes)"
   ],
   "metadata": {
    "collapsed": false
   }
  },
  {
   "cell_type": "code",
   "execution_count": 233,
   "outputs": [],
   "source": [
    "# https://scikit-learn.org/stable/modules/generated/sklearn.naive_bayes.GaussianNB.html\n",
    "NB_classifier = naive_bayes.GaussianNB()"
   ],
   "metadata": {
    "collapsed": false,
    "pycharm": {
     "name": "#%%\n"
    }
   }
  },
  {
   "cell_type": "code",
   "execution_count": 234,
   "outputs": [
    {
     "name": "stdout",
     "output_type": "stream",
     "text": [
      "[[17  1  0]\n",
      " [ 0 13  2]\n",
      " [ 0  0 12]]\n",
      "              precision    recall  f1-score   support\n",
      "\n",
      "           1       1.00      0.94      0.97        18\n",
      "           2       0.93      0.87      0.90        15\n",
      "           3       0.86      1.00      0.92        12\n",
      "\n",
      "    accuracy                           0.93        45\n",
      "   macro avg       0.93      0.94      0.93        45\n",
      "weighted avg       0.94      0.93      0.93        45\n",
      "\n"
     ]
    }
   ],
   "source": [
    "pipe_NB = pipeline.Pipeline(steps=[('scaler', scaler), ('bayes', NB_classifier)])\n",
    "pipe_NB.fit(X_train, y_train)\n",
    "\n",
    "y_pred_NB = pipe_NB.predict(X_test)\n",
    "print(metrics.confusion_matrix(y_test, y_pred_NB))\n",
    "print(metrics.classification_report(y_test,  y_pred_NB))"
   ],
   "metadata": {
    "collapsed": false,
    "pycharm": {
     "name": "#%%\n"
    }
   }
  },
  {
   "cell_type": "code",
   "execution_count": 235,
   "outputs": [
    {
     "name": "stdout",
     "output_type": "stream",
     "text": [
      "0.9663492063492063\n"
     ]
    }
   ],
   "source": [
    "# Кросс-валидация с использованием cross_val_score\n",
    "\n",
    "pipe_NB = pipeline.Pipeline(steps=[('scaler', scaler), ('bayes', NB_classifier)])\n",
    "score = model_selection.cross_val_score(pipe_NB, X, y, cv=5)\n",
    "print(score.mean())"
   ],
   "metadata": {
    "collapsed": false,
    "pycharm": {
     "name": "#%%\n"
    }
   }
  },
  {
   "cell_type": "code",
   "execution_count": 236,
   "outputs": [
    {
     "data": {
      "text/plain": "{'memory': None,\n 'steps': [('scaler', StandardScaler()), ('bayes', GaussianNB())],\n 'verbose': False,\n 'scaler': StandardScaler(),\n 'bayes': GaussianNB(),\n 'scaler__copy': True,\n 'scaler__with_mean': True,\n 'scaler__with_std': True,\n 'bayes__priors': None,\n 'bayes__var_smoothing': 1e-09}"
     },
     "execution_count": 236,
     "metadata": {},
     "output_type": "execute_result"
    }
   ],
   "source": [
    "# Подбор гиперпараметров\n",
    "pipe_NB.get_params()"
   ],
   "metadata": {
    "collapsed": false,
    "pycharm": {
     "name": "#%%\n"
    }
   }
  },
  {
   "cell_type": "code",
   "execution_count": 237,
   "outputs": [
    {
     "name": "stdout",
     "output_type": "stream",
     "text": [
      "Wall time: 42 ms\n"
     ]
    },
    {
     "data": {
      "text/plain": "GridSearchCV(cv=5,\n             estimator=Pipeline(steps=[('scaler', StandardScaler()),\n                                       ('bayes', GaussianNB())]),\n             param_grid={'bayes__var_smoothing': [1e-09, 1e-12, 1e-05]},\n             scoring='f1_micro')"
     },
     "execution_count": 237,
     "metadata": {},
     "output_type": "execute_result"
    }
   ],
   "source": [
    "%%time\n",
    "param_grid = dict(bayes__var_smoothing=[1e-09, 1e-12, 1e-05])\n",
    "grid_search_NB = model_selection.GridSearchCV(pipe_NB, param_grid, scoring='f1_micro', cv=5)\n",
    "grid_search_NB.fit(X, y)"
   ],
   "metadata": {
    "collapsed": false,
    "pycharm": {
     "name": "#%%\n"
    }
   }
  },
  {
   "cell_type": "code",
   "execution_count": 238,
   "outputs": [
    {
     "name": "stdout",
     "output_type": "stream",
     "text": [
      "{'bayes__var_smoothing': 1e-09}\n",
      "0.9663492063492063\n"
     ]
    }
   ],
   "source": [
    "# Наилучшие параметры\n",
    "print(grid_search_NB.best_params_)\n",
    "print(grid_search_NB.best_score_)"
   ],
   "metadata": {
    "collapsed": false,
    "pycharm": {
     "name": "#%%\n"
    }
   }
  },
  {
   "cell_type": "markdown",
   "source": [
    "### Метод опорных векторов (Support Vector Machines)"
   ],
   "metadata": {
    "collapsed": false
   }
  },
  {
   "cell_type": "code",
   "execution_count": 239,
   "outputs": [],
   "source": [
    "# https://scikit-learn.org/stable/modules/svm.html\n",
    "SVM_classifier = svm.SVC()"
   ],
   "metadata": {
    "collapsed": false,
    "pycharm": {
     "name": "#%%\n"
    }
   }
  },
  {
   "cell_type": "code",
   "execution_count": 240,
   "outputs": [
    {
     "name": "stdout",
     "output_type": "stream",
     "text": [
      "[[18  0  0]\n",
      " [ 0 14  1]\n",
      " [ 0  0 12]]\n",
      "              precision    recall  f1-score   support\n",
      "\n",
      "           1       1.00      1.00      1.00        18\n",
      "           2       1.00      0.93      0.97        15\n",
      "           3       0.92      1.00      0.96        12\n",
      "\n",
      "    accuracy                           0.98        45\n",
      "   macro avg       0.97      0.98      0.98        45\n",
      "weighted avg       0.98      0.98      0.98        45\n",
      "\n"
     ]
    }
   ],
   "source": [
    "pipe_SVM = pipeline.Pipeline(steps=[('scaler', scaler), ('SVM', SVM_classifier)])\n",
    "pipe_SVM.fit(X_train, y_train)\n",
    "\n",
    "y_pred_SVM = pipe_SVM.predict(X_test)\n",
    "print(metrics.confusion_matrix(y_test, y_pred_SVM))\n",
    "print(metrics.classification_report(y_test,  y_pred_SVM))"
   ],
   "metadata": {
    "collapsed": false,
    "pycharm": {
     "name": "#%%\n"
    }
   }
  },
  {
   "cell_type": "code",
   "execution_count": 241,
   "outputs": [
    {
     "name": "stdout",
     "output_type": "stream",
     "text": [
      "0.9833333333333334\n"
     ]
    }
   ],
   "source": [
    "# Кросс-валидация с использованием cross_val_score\n",
    "\n",
    "pipe_SVM = pipeline.Pipeline(steps=[('scaler', scaler), ('SVM', SVM_classifier)])\n",
    "score = model_selection.cross_val_score(pipe_SVM, X, y, cv=5)\n",
    "print(score.mean())"
   ],
   "metadata": {
    "collapsed": false,
    "pycharm": {
     "name": "#%%\n"
    }
   }
  },
  {
   "cell_type": "code",
   "execution_count": 242,
   "outputs": [
    {
     "data": {
      "text/plain": "{'memory': None,\n 'steps': [('scaler', StandardScaler()), ('SVM', SVC())],\n 'verbose': False,\n 'scaler': StandardScaler(),\n 'SVM': SVC(),\n 'scaler__copy': True,\n 'scaler__with_mean': True,\n 'scaler__with_std': True,\n 'SVM__C': 1.0,\n 'SVM__break_ties': False,\n 'SVM__cache_size': 200,\n 'SVM__class_weight': None,\n 'SVM__coef0': 0.0,\n 'SVM__decision_function_shape': 'ovr',\n 'SVM__degree': 3,\n 'SVM__gamma': 'scale',\n 'SVM__kernel': 'rbf',\n 'SVM__max_iter': -1,\n 'SVM__probability': False,\n 'SVM__random_state': None,\n 'SVM__shrinking': True,\n 'SVM__tol': 0.001,\n 'SVM__verbose': False}"
     },
     "execution_count": 242,
     "metadata": {},
     "output_type": "execute_result"
    }
   ],
   "source": [
    "# Подбор гиперпараметров\n",
    "pipe_SVM.get_params()"
   ],
   "metadata": {
    "collapsed": false,
    "pycharm": {
     "name": "#%%\n"
    }
   }
  },
  {
   "cell_type": "code",
   "execution_count": 243,
   "outputs": [
    {
     "name": "stdout",
     "output_type": "stream",
     "text": [
      "Wall time: 6.82 s\n"
     ]
    },
    {
     "data": {
      "text/plain": "GridSearchCV(cv=5,\n             estimator=Pipeline(steps=[('scaler', StandardScaler()),\n                                       ('SVM', SVC())]),\n             param_grid={'SVM__C': [0.2, 0.5, 0.7, 1.0, 1.2, 1.5, 1.7, 2, 2.5],\n                         'SVM__kernel': ['linear', 'poly', 'rbf', 'sigmoid'],\n                         'SVM__probability': [True, False],\n                         'SVM__tol': [0.1, 0.01, 0.001, 0.0001, 1e-05]},\n             scoring='f1_micro')"
     },
     "execution_count": 243,
     "metadata": {},
     "output_type": "execute_result"
    }
   ],
   "source": [
    "%%time\n",
    "param_grid = dict(SVM__C=[0.2, 0.5, 0.7, 1.0, 1.2, 1.5, 1.7, 2, 2.5], SVM__kernel=['linear', 'poly', 'rbf', 'sigmoid'], SVM__tol=[0.1, 0.01, 0.001, 0.0001, 0.00001], SVM__probability=[True, False])\n",
    "grid_search_SVM = model_selection.GridSearchCV(pipe_SVM, param_grid, scoring='f1_micro', cv=5)\n",
    "grid_search_SVM.fit(X, y)"
   ],
   "metadata": {
    "collapsed": false,
    "pycharm": {
     "name": "#%%\n"
    }
   }
  },
  {
   "cell_type": "code",
   "execution_count": 244,
   "outputs": [
    {
     "name": "stdout",
     "output_type": "stream",
     "text": [
      "{'SVM__C': 2, 'SVM__kernel': 'rbf', 'SVM__probability': True, 'SVM__tol': 0.1}\n",
      "0.9888888888888889\n"
     ]
    }
   ],
   "source": [
    "# Наилучшие параметры\n",
    "print(grid_search_SVM.best_params_)\n",
    "print(grid_search_SVM.best_score_)"
   ],
   "metadata": {
    "collapsed": false,
    "pycharm": {
     "name": "#%%\n"
    }
   }
  },
  {
   "cell_type": "markdown",
   "source": [
    "### Логистическая регрессия (Logistic Regression)"
   ],
   "metadata": {
    "collapsed": false,
    "pycharm": {
     "name": "#%% md\n"
    }
   }
  },
  {
   "cell_type": "code",
   "execution_count": 245,
   "outputs": [],
   "source": [
    "# https://scikit-learn.org/stable/modules/generated/sklearn.linear_model.LogisticRegression.htm\n",
    "LR_classifier = linear_model.LogisticRegression()"
   ],
   "metadata": {
    "collapsed": false,
    "pycharm": {
     "name": "#%%\n"
    }
   }
  },
  {
   "cell_type": "code",
   "execution_count": 246,
   "outputs": [
    {
     "name": "stdout",
     "output_type": "stream",
     "text": [
      "[[18  0  0]\n",
      " [ 0 14  1]\n",
      " [ 0  0 12]]\n",
      "              precision    recall  f1-score   support\n",
      "\n",
      "           1       1.00      1.00      1.00        18\n",
      "           2       1.00      0.93      0.97        15\n",
      "           3       0.92      1.00      0.96        12\n",
      "\n",
      "    accuracy                           0.98        45\n",
      "   macro avg       0.97      0.98      0.98        45\n",
      "weighted avg       0.98      0.98      0.98        45\n",
      "\n"
     ]
    }
   ],
   "source": [
    "pipe_LR = pipeline.Pipeline(steps=[('scaler', scaler), ('LR', LR_classifier)])\n",
    "pipe_LR.fit(X_train, y_train)\n",
    "\n",
    "y_pred_LR = pipe_LR.predict(X_test)\n",
    "print(metrics.confusion_matrix(y_test, y_pred_LR))\n",
    "print(metrics.classification_report(y_test,  y_pred_LR))"
   ],
   "metadata": {
    "collapsed": false,
    "pycharm": {
     "name": "#%%\n"
    }
   }
  },
  {
   "cell_type": "code",
   "execution_count": 247,
   "outputs": [
    {
     "name": "stdout",
     "output_type": "stream",
     "text": [
      "0.9831746031746033\n"
     ]
    }
   ],
   "source": [
    "# Кросс-валидация с использованием cross_val_score\n",
    "\n",
    "pipe_LR = pipeline.Pipeline(steps=[('scaler', scaler), ('LR', LR_classifier)])\n",
    "score = model_selection.cross_val_score(pipe_LR, X, y, cv=5)\n",
    "print(score.mean())"
   ],
   "metadata": {
    "collapsed": false,
    "pycharm": {
     "name": "#%%\n"
    }
   }
  },
  {
   "cell_type": "code",
   "execution_count": 248,
   "outputs": [
    {
     "data": {
      "text/plain": "{'memory': None,\n 'steps': [('scaler', StandardScaler()), ('LR', LogisticRegression())],\n 'verbose': False,\n 'scaler': StandardScaler(),\n 'LR': LogisticRegression(),\n 'scaler__copy': True,\n 'scaler__with_mean': True,\n 'scaler__with_std': True,\n 'LR__C': 1.0,\n 'LR__class_weight': None,\n 'LR__dual': False,\n 'LR__fit_intercept': True,\n 'LR__intercept_scaling': 1,\n 'LR__l1_ratio': None,\n 'LR__max_iter': 100,\n 'LR__multi_class': 'auto',\n 'LR__n_jobs': None,\n 'LR__penalty': 'l2',\n 'LR__random_state': None,\n 'LR__solver': 'lbfgs',\n 'LR__tol': 0.0001,\n 'LR__verbose': 0,\n 'LR__warm_start': False}"
     },
     "execution_count": 248,
     "metadata": {},
     "output_type": "execute_result"
    }
   ],
   "source": [
    "# Подбор гиперпараметров\n",
    "pipe_LR.get_params()"
   ],
   "metadata": {
    "collapsed": false,
    "pycharm": {
     "name": "#%%\n"
    }
   }
  },
  {
   "cell_type": "code",
   "execution_count": 249,
   "outputs": [
    {
     "name": "stdout",
     "output_type": "stream",
     "text": [
      "Wall time: 4.53 s\n"
     ]
    },
    {
     "data": {
      "text/plain": "GridSearchCV(cv=5,\n             estimator=Pipeline(steps=[('scaler', StandardScaler()),\n                                       ('LR', LogisticRegression())]),\n             param_grid={'LR__C': [0.001, 0.01, 0.1, 0.3, 1, 1.2, 1.5],\n                         'LR__max_iter': [1000],\n                         'LR__solver': ['liblinear', 'lbfgs', 'newton-cg',\n                                        'saga'],\n                         'LR__tol': [0.1, 0.01, 0.001, 0.0001, 1e-05]},\n             scoring='f1_micro')"
     },
     "execution_count": 249,
     "metadata": {},
     "output_type": "execute_result"
    }
   ],
   "source": [
    "%%time\n",
    "param_grid = dict(LR__C=[0.001, 0.01, 0.1, 0.3, 1, 1.2, 1.5], LR__solver=['liblinear', 'lbfgs', 'newton-cg', 'saga'], LR__tol=[0.1, 0.01, 0.001, 0.0001, 0.00001], LR__max_iter=[1000])\n",
    "grid_search_LR = model_selection.GridSearchCV(pipe_LR, param_grid, scoring='f1_micro', cv=5)\n",
    "grid_search_LR.fit(X, y)"
   ],
   "metadata": {
    "collapsed": false,
    "pycharm": {
     "name": "#%%\n"
    }
   }
  },
  {
   "cell_type": "code",
   "execution_count": 250,
   "outputs": [
    {
     "name": "stdout",
     "output_type": "stream",
     "text": [
      "{'LR__C': 1, 'LR__max_iter': 1000, 'LR__solver': 'saga', 'LR__tol': 0.01}\n",
      "0.9888888888888889\n"
     ]
    }
   ],
   "source": [
    "# Наилучшие параметры\n",
    "print(grid_search_LR.best_params_)\n",
    "print(grid_search_LR.best_score_)"
   ],
   "metadata": {
    "collapsed": false,
    "pycharm": {
     "name": "#%%\n"
    }
   }
  },
  {
   "cell_type": "code",
   "execution_count": 251,
   "outputs": [
    {
     "name": "stdout",
     "output_type": "stream",
     "text": [
      "K-Nearest Neighbors f1 score: 0.9777777777777779\n",
      "Decision Tree Classifier f1 score: 0.9276190476190477\n",
      "Naive Bayes f1 score: 0.9663492063492063\n",
      "Support Vector Machines f1 score: 0.9888888888888889\n",
      "Logistic Regression f1 score: 0.9888888888888889\n"
     ]
    }
   ],
   "source": [
    "# Итоговые значения:\n",
    "print(f'K-Nearest Neighbors f1 score: {grid_search_KN.best_score_}')\n",
    "print(f'Decision Tree Classifier f1 score: {grid_search_tree.best_score_}')\n",
    "print(f'Naive Bayes f1 score: {grid_search_NB.best_score_}')\n",
    "print(f'Support Vector Machines f1 score: {grid_search_SVM.best_score_}')\n",
    "print(f'Logistic Regression f1 score: {grid_search_LR.best_score_}')"
   ],
   "metadata": {
    "collapsed": false,
    "pycharm": {
     "name": "#%%\n"
    }
   }
  }
 ],
 "metadata": {
  "kernelspec": {
   "display_name": "Python 3",
   "language": "python",
   "name": "python3"
  },
  "language_info": {
   "codemirror_mode": {
    "name": "ipython",
    "version": 2
   },
   "file_extension": ".py",
   "mimetype": "text/x-python",
   "name": "python",
   "nbconvert_exporter": "python",
   "pygments_lexer": "ipython2",
   "version": "2.7.6"
  }
 },
 "nbformat": 4,
 "nbformat_minor": 0
}