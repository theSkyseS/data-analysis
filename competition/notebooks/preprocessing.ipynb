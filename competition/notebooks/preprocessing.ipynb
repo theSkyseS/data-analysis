{
 "cells": [
  {
   "cell_type": "code",
   "execution_count": 1,
   "metadata": {
    "collapsed": true
   },
   "outputs": [],
   "source": [
    "import pandas as pd\n",
    "import numpy as np"
   ]
  },
  {
   "cell_type": "code",
   "execution_count": 2,
   "outputs": [],
   "source": [
    "train_data = pd.read_csv(\"../data/train.csv\")\n",
    "test_data = pd.read_csv(\"../data/test.csv\")"
   ],
   "metadata": {
    "collapsed": false,
    "pycharm": {
     "name": "#%%\n"
    }
   }
  },
  {
   "cell_type": "code",
   "execution_count": 3,
   "outputs": [
    {
     "name": "stdout",
     "output_type": "stream",
     "text": [
      "<class 'pandas.core.frame.DataFrame'>\n",
      "RangeIndex: 100000 entries, 0 to 99999\n",
      "Data columns (total 12 columns):\n",
      " #   Column       Non-Null Count   Dtype  \n",
      "---  ------       --------------   -----  \n",
      " 0   PassengerId  100000 non-null  int64  \n",
      " 1   Survived     100000 non-null  int64  \n",
      " 2   Pclass       100000 non-null  int64  \n",
      " 3   Name         100000 non-null  object \n",
      " 4   Sex          100000 non-null  object \n",
      " 5   Age          96708 non-null   float64\n",
      " 6   SibSp        100000 non-null  int64  \n",
      " 7   Parch        100000 non-null  int64  \n",
      " 8   Ticket       95377 non-null   object \n",
      " 9   Fare         99866 non-null   float64\n",
      " 10  Cabin        32134 non-null   object \n",
      " 11  Embarked     99750 non-null   object \n",
      "dtypes: float64(2), int64(5), object(5)\n",
      "memory usage: 9.2+ MB\n"
     ]
    }
   ],
   "source": [
    "train_data.info()"
   ],
   "metadata": {
    "collapsed": false,
    "pycharm": {
     "name": "#%%\n"
    }
   }
  },
  {
   "cell_type": "code",
   "execution_count": 4,
   "outputs": [
    {
     "name": "stdout",
     "output_type": "stream",
     "text": [
      "<class 'pandas.core.frame.DataFrame'>\n",
      "RangeIndex: 100000 entries, 0 to 99999\n",
      "Data columns (total 11 columns):\n",
      " #   Column       Non-Null Count   Dtype  \n",
      "---  ------       --------------   -----  \n",
      " 0   PassengerId  100000 non-null  int64  \n",
      " 1   Pclass       100000 non-null  int64  \n",
      " 2   Name         100000 non-null  object \n",
      " 3   Sex          100000 non-null  object \n",
      " 4   Age          96513 non-null   float64\n",
      " 5   SibSp        100000 non-null  int64  \n",
      " 6   Parch        100000 non-null  int64  \n",
      " 7   Ticket       94819 non-null   object \n",
      " 8   Fare         99867 non-null   float64\n",
      " 9   Cabin        29169 non-null   object \n",
      " 10  Embarked     99723 non-null   object \n",
      "dtypes: float64(2), int64(4), object(5)\n",
      "memory usage: 8.4+ MB\n"
     ]
    }
   ],
   "source": [
    "test_data.info()"
   ],
   "metadata": {
    "collapsed": false,
    "pycharm": {
     "name": "#%%\n"
    }
   }
  },
  {
   "cell_type": "code",
   "execution_count": 25,
   "outputs": [],
   "source": [
    "def prepare_data(data):\n",
    "    age_map = data[['Age', 'Pclass']].dropna().groupby('Pclass').mean().to_dict()\n",
    "    data.Age = data.Age.fillna(data.Pclass.map(age_map['Age']))\n",
    "\n",
    "    fare_map = data[['Fare', 'Pclass']].dropna().groupby('Pclass').mean().to_dict()\n",
    "    data.Fare = data.Fare.fillna(data.Pclass.map(fare_map['Fare']))\n",
    "\n",
    "    data['Cabin number'] = data.Cabin.map(lambda x: str(x)[1:].strip())\n",
    "    data['Cabin number'] = data['Cabin number'].replace('an', '0').astype(int, copy=False)\n",
    "    data['Cabin'] = data.Cabin.map(lambda x: str(x)[0].strip())\n",
    "\n",
    "    data['Ticket'] = data.Ticket.fillna('X')\n",
    "    data['Embarked'] = data.Embarked.fillna('X')\n",
    "\n",
    "    return pd.get_dummies(data, columns=['Sex', 'Cabin', 'Embarked'], prefix=['sex', 'cab', 'emb'])"
   ],
   "metadata": {
    "collapsed": false,
    "pycharm": {
     "name": "#%%\n"
    }
   }
  },
  {
   "cell_type": "code",
   "execution_count": 26,
   "outputs": [],
   "source": [
    "train_data = prepare_data(train_data)\n",
    "test_data = prepare_data(test_data)"
   ],
   "metadata": {
    "collapsed": false,
    "pycharm": {
     "name": "#%%\n"
    }
   }
  },
  {
   "cell_type": "code",
   "execution_count": 27,
   "outputs": [
    {
     "name": "stdout",
     "output_type": "stream",
     "text": [
      "<class 'pandas.core.frame.DataFrame'>\n",
      "RangeIndex: 100000 entries, 0 to 99999\n",
      "Data columns (total 25 columns):\n",
      " #   Column        Non-Null Count   Dtype  \n",
      "---  ------        --------------   -----  \n",
      " 0   PassengerId   100000 non-null  int64  \n",
      " 1   Survived      100000 non-null  int64  \n",
      " 2   Pclass        100000 non-null  int64  \n",
      " 3   Name          100000 non-null  object \n",
      " 4   Age           100000 non-null  float64\n",
      " 5   SibSp         100000 non-null  int64  \n",
      " 6   Parch         100000 non-null  int64  \n",
      " 7   Ticket        100000 non-null  object \n",
      " 8   Fare          100000 non-null  float64\n",
      " 9   Cabin number  100000 non-null  int32  \n",
      " 10  sex_female    100000 non-null  uint8  \n",
      " 11  sex_male      100000 non-null  uint8  \n",
      " 12  cab_A         100000 non-null  uint8  \n",
      " 13  cab_B         100000 non-null  uint8  \n",
      " 14  cab_C         100000 non-null  uint8  \n",
      " 15  cab_D         100000 non-null  uint8  \n",
      " 16  cab_E         100000 non-null  uint8  \n",
      " 17  cab_F         100000 non-null  uint8  \n",
      " 18  cab_G         100000 non-null  uint8  \n",
      " 19  cab_T         100000 non-null  uint8  \n",
      " 20  cab_n         100000 non-null  uint8  \n",
      " 21  emb_C         100000 non-null  uint8  \n",
      " 22  emb_Q         100000 non-null  uint8  \n",
      " 23  emb_S         100000 non-null  uint8  \n",
      " 24  emb_X         100000 non-null  uint8  \n",
      "dtypes: float64(2), int32(1), int64(5), object(2), uint8(15)\n",
      "memory usage: 8.7+ MB\n"
     ]
    }
   ],
   "source": [
    "train_data.info()\n"
   ],
   "metadata": {
    "collapsed": false,
    "pycharm": {
     "name": "#%%\n"
    }
   }
  },
  {
   "cell_type": "code",
   "execution_count": 28,
   "outputs": [
    {
     "name": "stdout",
     "output_type": "stream",
     "text": [
      "<class 'pandas.core.frame.DataFrame'>\n",
      "RangeIndex: 100000 entries, 0 to 99999\n",
      "Data columns (total 24 columns):\n",
      " #   Column        Non-Null Count   Dtype  \n",
      "---  ------        --------------   -----  \n",
      " 0   PassengerId   100000 non-null  int64  \n",
      " 1   Pclass        100000 non-null  int64  \n",
      " 2   Name          100000 non-null  object \n",
      " 3   Age           100000 non-null  float64\n",
      " 4   SibSp         100000 non-null  int64  \n",
      " 5   Parch         100000 non-null  int64  \n",
      " 6   Ticket        100000 non-null  object \n",
      " 7   Fare          100000 non-null  float64\n",
      " 8   Cabin number  100000 non-null  int32  \n",
      " 9   sex_female    100000 non-null  uint8  \n",
      " 10  sex_male      100000 non-null  uint8  \n",
      " 11  cab_A         100000 non-null  uint8  \n",
      " 12  cab_B         100000 non-null  uint8  \n",
      " 13  cab_C         100000 non-null  uint8  \n",
      " 14  cab_D         100000 non-null  uint8  \n",
      " 15  cab_E         100000 non-null  uint8  \n",
      " 16  cab_F         100000 non-null  uint8  \n",
      " 17  cab_G         100000 non-null  uint8  \n",
      " 18  cab_T         100000 non-null  uint8  \n",
      " 19  cab_n         100000 non-null  uint8  \n",
      " 20  emb_C         100000 non-null  uint8  \n",
      " 21  emb_Q         100000 non-null  uint8  \n",
      " 22  emb_S         100000 non-null  uint8  \n",
      " 23  emb_X         100000 non-null  uint8  \n",
      "dtypes: float64(2), int32(1), int64(4), object(2), uint8(15)\n",
      "memory usage: 7.9+ MB\n"
     ]
    }
   ],
   "source": [
    "test_data.info()"
   ],
   "metadata": {
    "collapsed": false,
    "pycharm": {
     "name": "#%%\n"
    }
   }
  },
  {
   "cell_type": "code",
   "execution_count": 29,
   "outputs": [],
   "source": [
    "train_data.to_csv('../data/train_preprocessed.csv', index=False)\n",
    "test_data.to_csv('../data/test_preprocessed.csv', index=False)"
   ],
   "metadata": {
    "collapsed": false,
    "pycharm": {
     "name": "#%%\n"
    }
   }
  }
 ],
 "metadata": {
  "kernelspec": {
   "display_name": "Python 3",
   "language": "python",
   "name": "python3"
  },
  "language_info": {
   "codemirror_mode": {
    "name": "ipython",
    "version": 2
   },
   "file_extension": ".py",
   "mimetype": "text/x-python",
   "name": "python",
   "nbconvert_exporter": "python",
   "pygments_lexer": "ipython2",
   "version": "2.7.6"
  }
 },
 "nbformat": 4,
 "nbformat_minor": 0
}